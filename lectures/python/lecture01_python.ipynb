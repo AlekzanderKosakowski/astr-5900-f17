{
 "cells": [
  {
   "cell_type": "markdown",
   "metadata": {
    "slideshow": {
     "slide_type": "slide"
    }
   },
   "source": [
    "# Introduction to Python\n",
    "\n",
    "### ASTR 5900 - Machine Learning"
   ]
  },
  {
   "cell_type": "markdown",
   "metadata": {
    "slideshow": {
     "slide_type": "slide"
    }
   },
   "source": [
    "# Outline\n",
    "\n",
    "1. Introduction \n",
    "2. Fundamentals\n",
    "3. Functions\n",
    "4. Classes\n",
    "5. Files\n",
    "6. External Libraries\n"
   ]
  },
  {
   "cell_type": "markdown",
   "metadata": {
    "slideshow": {
     "slide_type": "slide"
    }
   },
   "source": [
    "# What is Python?\n",
    "\n",
    "Python is a high-level, dynamically typed, object-oriented, interpreted programming language.  It has many uses in web programming, scripting, scientific computing, and ariticial intelligence.  It is growing in popularity every year.  A microcosm of this fact can be seen via the search frequency (via Google) of \"learn java\" versus \"learn python\".  This can be interpreted as Python overtaking Java as the de-facto starter programming language."
   ]
  },
  {
   "cell_type": "markdown",
   "metadata": {
    "slideshow": {
     "slide_type": "subslide"
    }
   },
   "source": [
    "## Python is...\n",
    "\n",
    "### good at\n",
    "\n",
    "* readability\n",
    "* having available libraries\n",
    "* scripting\n",
    "\n",
    "### bad at\n",
    "\n",
    "* building giant, intensive applications\n",
    " * no control over memory allocation\n",
    " \n",
    "Common statement: the reasons that make Python fast to write are the same that make Python slow to execute"
   ]
  },
  {
   "cell_type": "markdown",
   "metadata": {
    "slideshow": {
     "slide_type": "slide"
    }
   },
   "source": [
    "# Fundamentals\n",
    "\n",
    "Here we are concerned with the basics of python.  This section is essential for those with no experience. "
   ]
  },
  {
   "cell_type": "markdown",
   "metadata": {
    "slideshow": {
     "slide_type": "subslide"
    }
   },
   "source": [
    "## Simple Data Types and Variables\n",
    "\n",
    "#### Strings and Numbers\n",
    "\n",
    "Python requires a working knowledge of simple data types like strings and numbers.  Numbers can be broken down into two categories that are very similar in function: integers (`int`) and floating point numbers (`float`).  We can use variables to store values.\n"
   ]
  },
  {
   "cell_type": "code",
   "execution_count": null,
   "metadata": {},
   "outputs": [],
   "source": [
    "message = \"Hello world!\"\n",
    "\n",
    "print(message)"
   ]
  },
  {
   "cell_type": "code",
   "execution_count": null,
   "metadata": {},
   "outputs": [],
   "source": [
    "x = 10\n",
    "print(x)"
   ]
  },
  {
   "cell_type": "code",
   "execution_count": null,
   "metadata": {
    "collapsed": true
   },
   "outputs": [],
   "source": []
  },
  {
   "cell_type": "markdown",
   "metadata": {
    "slideshow": {
     "slide_type": "subslide"
    }
   },
   "source": [
    "#### Lists\n",
    "\n",
    "Lists are also a crucial data type.  A list is a collection of objects in a particular order.  Unlike other array-like data structures you might see in other languages, the items in a Python list do not have to be related.  Square brackets are used to indicate a list.  Here we will create a list of strings:"
   ]
  },
  {
   "cell_type": "code",
   "execution_count": null,
   "metadata": {},
   "outputs": [],
   "source": [
    "bicycles = ['trek', \n",
    "            'cannondale', \n",
    "            'redline', \n",
    "            'specialized']\n",
    "\n",
    "bicycles.append(0)\n",
    "\n",
    "print(bicycles)\n",
    "     "
   ]
  },
  {
   "cell_type": "markdown",
   "metadata": {},
   "source": [
    "Sometimes users want to access individual list elements.  This can be achieved by writing the index of the element in square brackets immediately following the list."
   ]
  },
  {
   "cell_type": "code",
   "execution_count": null,
   "metadata": {},
   "outputs": [],
   "source": [
    "# this raises an error!\n",
    "\n",
    "# bicycles[5]"
   ]
  },
  {
   "cell_type": "markdown",
   "metadata": {},
   "source": [
    "**Note that indexing starts at 0!**  Python also allows one to perform special indexing with negative integers, which indicate elements from the *end* of the list."
   ]
  },
  {
   "cell_type": "code",
   "execution_count": null,
   "metadata": {},
   "outputs": [],
   "source": [
    "bicycles[-1]"
   ]
  },
  {
   "cell_type": "markdown",
   "metadata": {},
   "source": [
    "##### List Slicing\n",
    "\n",
    "List slicing is a mechanic which allows one to access multiple elements at once."
   ]
  },
  {
   "cell_type": "code",
   "execution_count": null,
   "metadata": {},
   "outputs": [],
   "source": [
    "first2 = bicycles[0:2]\n",
    "print(first2)\n",
    "\n",
    "# new bikes\n",
    "new_bikes = bicycles[:]\n",
    "print(new_bikes)"
   ]
  },
  {
   "cell_type": "markdown",
   "metadata": {},
   "source": [
    "#### Dictionaries\n",
    "\n",
    "Dictionaries are collections of key-value pairs.  Each key is connected to some value, and that key is used to access that value.  I think of dictionaries as arrays without an ordering; instead their elements are indexed with arbitrary objects.  \n",
    "\n",
    "Dictionaries are good for modeling objects with different types of data.  Dictionaries are indicated by curly braces."
   ]
  },
  {
   "cell_type": "code",
   "execution_count": null,
   "metadata": {},
   "outputs": [],
   "source": [
    "alien = {'color':'green',\n",
    "         'points':5}\n",
    "\n",
    "print(alien['color'])\n",
    "print(alien['points'])"
   ]
  },
  {
   "cell_type": "markdown",
   "metadata": {
    "collapsed": true
   },
   "source": [
    "Elements are accessed with keys much like elements in a list are accessed with indexing."
   ]
  },
  {
   "cell_type": "markdown",
   "metadata": {
    "slideshow": {
     "slide_type": "subslide"
    }
   },
   "source": [
    "## Arithmetic\n",
    "\n",
    "Arithmetic is performed in the expected way and can be executed simply inside the console.  Try these for yourself."
   ]
  },
  {
   "cell_type": "code",
   "execution_count": null,
   "metadata": {},
   "outputs": [],
   "source": [
    "2 * 1.4 + 10.1"
   ]
  },
  {
   "cell_type": "code",
   "execution_count": null,
   "metadata": {},
   "outputs": [],
   "source": [
    "6/3."
   ]
  },
  {
   "cell_type": "markdown",
   "metadata": {},
   "source": [
    "Below are the featured arithmetic operators for working with numerical values.  They apply to integers and floats."
   ]
  },
  {
   "cell_type": "markdown",
   "metadata": {
    "slideshow": {
     "slide_type": "subslide"
    }
   },
   "source": [
    "## if Statements and Loops\n",
    "\n",
    "if Statements and loops are handled as they are in other languages, but the particular syntax is given below.\n",
    "\n",
    "One thing to remember is that the expressions observed in if statements and while loops boil down to either `True` or `False`.  for loops will loop through iterables (lists, tuples, numpy arrays, etc.)."
   ]
  },
  {
   "cell_type": "code",
   "execution_count": null,
   "metadata": {},
   "outputs": [],
   "source": [
    "# if structure\n",
    "if False:\n",
    "    print('true!')\n",
    "else:\n",
    "    print('not true!')\n",
    "\n",
    "# while loops\n",
    "# while True:\n",
    "#     print(\"Gob\")"
   ]
  },
  {
   "cell_type": "code",
   "execution_count": null,
   "metadata": {},
   "outputs": [],
   "source": [
    "items = [0, 99.9, 'peanuts']\n",
    "\n",
    "for item in items:\n",
    "    print(item)"
   ]
  },
  {
   "cell_type": "code",
   "execution_count": null,
   "metadata": {
    "collapsed": true
   },
   "outputs": [],
   "source": []
  },
  {
   "cell_type": "markdown",
   "metadata": {
    "slideshow": {
     "slide_type": "slide"
    }
   },
   "source": [
    "# Functions\n",
    "\n",
    "Functions are named blocks of code.  Once defined, they are *called* to execute their task.  Functions are used when a particular task needs to be performed repeatedly.  Functions make code easier to write, read, test, and fix."
   ]
  },
  {
   "cell_type": "markdown",
   "metadata": {
    "slideshow": {
     "slide_type": "-"
    }
   },
   "source": [
    "### Syntax\n",
    "\n",
    "Here I will create a function called `square` designed to square arbitrary numbers.  The first line is the *function definition* which comes in 3 parts: the `def` keyword, function name, and information the function needs in closed parentheses."
   ]
  },
  {
   "cell_type": "code",
   "execution_count": null,
   "metadata": {
    "collapsed": true,
    "slideshow": {
     "slide_type": "-"
    }
   },
   "outputs": [],
   "source": [
    "def square(x):\n",
    "    a = 10\n",
    "    return x*x"
   ]
  },
  {
   "cell_type": "markdown",
   "metadata": {
    "slideshow": {
     "slide_type": "-"
    }
   },
   "source": [
    "The function has a parameter `x` which is then used inside the body of the function.  When `square` is called the user must pass an *argument*.  Here, a return value equal to the argument squared is sent back to the line that called the function."
   ]
  },
  {
   "cell_type": "code",
   "execution_count": null,
   "metadata": {
    "slideshow": {
     "slide_type": "-"
    }
   },
   "outputs": [],
   "source": [
    "# here I will call this function\n",
    "\n",
    "square(1j)"
   ]
  },
  {
   "cell_type": "code",
   "execution_count": null,
   "metadata": {
    "slideshow": {
     "slide_type": "-"
    }
   },
   "outputs": [],
   "source": [
    "a = 50\n",
    "print(a)\n",
    "square(2)\n",
    "print(a)"
   ]
  },
  {
   "cell_type": "markdown",
   "metadata": {
    "slideshow": {
     "slide_type": "-"
    }
   },
   "source": [
    "### Passing a List\n",
    "\n",
    "By default, variables inside a function live in a local namespace.  This means parameter names identical to those defined in an outer scope can be used without overwriting their variable(s) in memory.\n",
    "\n",
    "HOWEVER this fact can cause some confusion when Python lists are involved.  Lists that are passed to a function are susceptible to changes inside that function, even if a different variable name is used.  Said in another way, lists live in a particular place in memory and if you want to make changes to it (without altering the original) you have to make a deliberate copy."
   ]
  },
  {
   "cell_type": "code",
   "execution_count": null,
   "metadata": {},
   "outputs": [],
   "source": [
    "def mess_with_list(a):\n",
    "    a.append(0)\n",
    "\n",
    "x = [10, 12, 23]\n",
    "print(x)\n",
    "mess_with_list(x)\n",
    "print(x)"
   ]
  },
  {
   "cell_type": "markdown",
   "metadata": {},
   "source": [
    "### Returning Values\n",
    "\n",
    "Remember, objects that are *returned* are then accessible to the line that called the function.  If you want to return multiple objects at once, the Pythonic way is comma-separate them after the `return` keyword.  This returns the objects in a tuple, which can then be retrieved via comma-separated variable declarations."
   ]
  },
  {
   "cell_type": "code",
   "execution_count": null,
   "metadata": {},
   "outputs": [],
   "source": [
    "def first3():\n",
    "    return 0,1,2\n",
    "\n",
    "zero, one, two = first3()\n",
    "tup = first3()\n",
    "\n",
    "print(zero, one, two)\n",
    "print(tup)\n",
    "\n",
    "# raises an error!\n",
    "# tup[0] = 4"
   ]
  },
  {
   "cell_type": "markdown",
   "metadata": {},
   "source": [
    "### Keyword Arguments\n",
    "\n",
    "Only positional arguments have been discussed at this point.  Python also has the option to use *keyword arguments* in your function definitions which are name-value pairs.  This allows you to specify the arguments your variables belong to in any order.\n",
    "\n",
    "Similarly, one can define a *default value* for parameters in their function definition.  If this parameter is not specified in the function call, the default value will be used.  This is great for defining functions that have regular parameters associated with it."
   ]
  },
  {
   "cell_type": "code",
   "execution_count": null,
   "metadata": {},
   "outputs": [],
   "source": [
    "def exp(base, power=2):\n",
    "    return base**power\n",
    "\n",
    "exp(2)"
   ]
  },
  {
   "cell_type": "code",
   "execution_count": null,
   "metadata": {},
   "outputs": [],
   "source": [
    "exp(7)"
   ]
  },
  {
   "cell_type": "code",
   "execution_count": null,
   "metadata": {},
   "outputs": [],
   "source": [
    "exp(2, power=8)"
   ]
  },
  {
   "cell_type": "markdown",
   "metadata": {
    "slideshow": {
     "slide_type": "slide"
    }
   },
   "source": [
    "# Classes\n",
    "\n",
    "Classes are used in object-oriented programming to create data types.  They can be used to model real-world objects or more abstract ideas.  If you've used Python without writing your own classes, you have still used them!\n",
    "\n",
    "Classes are the defining aspect of object-oriented programming.  Understanding classes is an important step in becoming an effective programmer.  While you may not create many classes for this course, it is worth studying in order to understand what is going on 'under the hood.'\n",
    "\n",
    "Making an object from a class is called *instantiation* and we will be working with *instances* of that class."
   ]
  },
  {
   "cell_type": "markdown",
   "metadata": {
    "slideshow": {
     "slide_type": "subslide"
    }
   },
   "source": [
    "## Creating Classes\n",
    "\n",
    "We will demonstrate a simple class definition."
   ]
  },
  {
   "cell_type": "code",
   "execution_count": null,
   "metadata": {
    "collapsed": true
   },
   "outputs": [],
   "source": [
    "class Dog(object):\n",
    "    \n",
    "    def __init__(self, name , age):\n",
    "        self.name = name\n",
    "        self.age = age\n",
    "        \n",
    "    def roll_over(self):\n",
    "        print('{} rolls over!'.format(self.name))\n",
    "        \n",
    "    def bark(self):\n",
    "        print('Woof!')"
   ]
  },
  {
   "cell_type": "markdown",
   "metadata": {},
   "source": [
    "A lot is going on here but you will get used to the structure as time goes on.  \n",
    "\n",
    "First of all, `__init__` (double underscores), `roll_over`, and `bark` are *methods*.  Methods are functions that are part of a class and most everything you've learned about functions in this lecture applies to them.  `__init__` is a special method that Python recognizes and runs automatically whenever a new instance of `Dog` is created.  \n",
    "\n",
    "Note the 3 parameters of `__init__`: `self`, `name`, and `age`.  `self` is a required parameter in methods (by default) and it must come before all the others.  `self` is a reference to the instance itself.  Attributes are assigned to the instance by declaring `self` + the variable name (i.e. `self.name = name`).  Attributes are variables associated with an instance of a class.  They can, in turn, be accessed via `instance.attribute`.\n",
    "\n",
    "Methods `roll_over` and `bark` don't do much now; they just issue print statements.  However one can imagine how these methods could be written to interact with a full program.\n",
    "\n",
    "Now let's create an instance of `Dog` and play around with its methods."
   ]
  },
  {
   "cell_type": "code",
   "execution_count": null,
   "metadata": {
    "collapsed": true
   },
   "outputs": [],
   "source": [
    "doge = Dog('spot', 3)\n",
    "doge.roll_over()\n",
    "doge.bark()"
   ]
  },
  {
   "cell_type": "markdown",
   "metadata": {},
   "source": [
    "Objects' attributes can be changed and they are reflected in methods that use the `self` parameter."
   ]
  },
  {
   "cell_type": "code",
   "execution_count": null,
   "metadata": {
    "collapsed": true
   },
   "outputs": [],
   "source": [
    "doge.name = \"Lassie\"\n",
    "\n",
    "doge.roll_over()"
   ]
  },
  {
   "cell_type": "markdown",
   "metadata": {
    "slideshow": {
     "slide_type": "subslide"
    }
   },
   "source": [
    "## Inheritance\n",
    "\n",
    "Say we wanted to create a class of cats to compliment our doggies.\n",
    "\n",
    "If you are writing many classes that have many of the same features, you could probably benefit from writing a base class and having other classes *inherit* from this base.  This is good for bookkeeping, writing less code, etc."
   ]
  },
  {
   "cell_type": "code",
   "execution_count": null,
   "metadata": {
    "collapsed": true
   },
   "outputs": [],
   "source": [
    "class Cat(object):\n",
    "    \n",
    "    def __init__(self, name, age):\n",
    "        self.name = name\n",
    "        self.age = age\n",
    "        \n",
    "    def meow():\n",
    "        print(\"Meow!\")"
   ]
  },
  {
   "cell_type": "markdown",
   "metadata": {},
   "source": [
    "Our `Cat` definition closely resembles `Dog`: the `__init__` methods are identical and `Cat` has a `meow` method that functions the same way `Dog.bark` does.  What if we wanted to create classes of other pets?  We would be forced to write duplicate code for objects that behave similarly.\n",
    "\n",
    "Fortunately Python offers *inheritance*, which allows one to write specialized versions of classes.  When one class inherits from another, it takes all the attributes and methods of the parent class.  If you are writing many classes that have many of the same features, you would probably benefit from writing a base class and having other classes inherit from this base.  Anything that requires less code is a good thing.\n",
    "\n",
    "Let us apply inheritance to our cat and dog problem and think about a base class:  Both `Dog` and `Cat` require the same arguments at instantiantiation, hinting that the parent class should have an `__init__` method that looks like the originals.  While they don't make the same noises, both animals speak in some manner.  This should be reflected also.  And finally, our `Dog`s can roll over but we better make sure our `Cat`s don't have that ability.  We could write a parent class `Pet` that looks like this:"
   ]
  },
  {
   "cell_type": "code",
   "execution_count": null,
   "metadata": {
    "collapsed": true
   },
   "outputs": [],
   "source": [
    "class Pet(object):\n",
    "    \n",
    "    def __init__(self, name, age):\n",
    "        self.name = name\n",
    "        self.age = age\n",
    "        \n",
    "    def speak(self, speech):\n",
    "        print(speech)"
   ]
  },
  {
   "cell_type": "markdown",
   "metadata": {},
   "source": [
    "Note that we gave `Pet` a general `speak` method and we did NOT give it a `roll_over` method.  Back to our cats and dogs: we would implement inheritance in the following manner:"
   ]
  },
  {
   "cell_type": "code",
   "execution_count": null,
   "metadata": {},
   "outputs": [],
   "source": [
    "class Dog(Pet):\n",
    "    \n",
    "    def __init__(self, name, age):\n",
    "        super(Dog, self).__init__(name, age) #python 2\n",
    "#         super().__init__(name, age) #python 3\n",
    "        \n",
    "    def bark(self):\n",
    "        self.speak('Woof!')\n",
    "    \n",
    "    def roll_over(self):\n",
    "        print(\"{} rolled over!\".format(self.name))\n",
    "        \n",
    "class Cat(Pet):\n",
    "    \n",
    "    def __init__(self, name, age):\n",
    "        super(Cat, self).__init__(name, age) #python 2\n",
    "#         super().__init__(name, age) #python 3\n",
    "        \n",
    "    def meow(self):\n",
    "        self.speak('Meow!')"
   ]
  },
  {
   "cell_type": "markdown",
   "metadata": {},
   "source": [
    "We have now given our code some structure by establishing a hierarchy and eliminated a few lines of code.  Yes, in this simple example we have actually written MORE lines than we did before.  However it is easy to see how this structure would scale favorably as the classes get more complicated and more child classes are added.\n",
    "\n",
    "As your classes get more detailed, you can imagine the elegant work that can be done.  For example, you can create instances of other custom classes that become attributes of your original class."
   ]
  },
  {
   "cell_type": "markdown",
   "metadata": {
    "slideshow": {
     "slide_type": "subslide"
    }
   },
   "source": [
    "## Dunder Methods\n",
    "\n",
    "Recall the `__init__` method of the Dog class.  It turns out there is a whole class of methods that Python recognizes that have very specific functionality.  These allow you to fine-tune your classes and make them more pythonic."
   ]
  },
  {
   "cell_type": "markdown",
   "metadata": {
    "slideshow": {
     "slide_type": "slide"
    }
   },
   "source": [
    "# Files\n",
    "\n",
    "To work with data requires interacting with files.  Here we will showcase a few ways to do that.\n",
    "\n",
    "We have saved a text file containing pi to 30 decimal places.  One way to see this data is to use Python's built-in `open` function:"
   ]
  },
  {
   "cell_type": "code",
   "execution_count": null,
   "metadata": {},
   "outputs": [],
   "source": [
    "with open('pi_digits.txt') as file_object:\n",
    "    contents = file_object.read()\n",
    "    print(contents)"
   ]
  },
  {
   "cell_type": "markdown",
   "metadata": {},
   "source": [
    "Python looks for `pi_digits.txt` in the path specified which in this case is the same as this Jupyter notebook.\n",
    "\n",
    "You can also read this file line by line:"
   ]
  },
  {
   "cell_type": "code",
   "execution_count": null,
   "metadata": {
    "collapsed": true
   },
   "outputs": [],
   "source": [
    "fname = 'pi_digits.txt'\n",
    "\n",
    "with open(fname, 'a') as file_object:\n",
    "    file_object.write(\"Nick is a smarty pants\")"
   ]
  },
  {
   "cell_type": "markdown",
   "metadata": {},
   "source": [
    "Users can similarly write to files."
   ]
  },
  {
   "cell_type": "markdown",
   "metadata": {},
   "source": [
    "## Other Methods\n",
    "\n",
    "If you are working with files with delimited entries, you may consider using the `csv` module that comes with default Python."
   ]
  },
  {
   "cell_type": "code",
   "execution_count": null,
   "metadata": {},
   "outputs": [],
   "source": [
    "import csv\n",
    "\n",
    "filename = 'sitka_weather_07-2014.csv'\n",
    "with open(filename) as f:\n",
    "    reader = csv.reader(f)\n",
    "    # this gives us the header row\n",
    "    header_row = next(reader)\n",
    "    print(header_row)"
   ]
  },
  {
   "cell_type": "markdown",
   "metadata": {
    "collapsed": true
   },
   "source": [
    "The numpy package also offers an easy way to load numerical files through the `np.loadtxt` function."
   ]
  },
  {
   "cell_type": "markdown",
   "metadata": {
    "slideshow": {
     "slide_type": "slide"
    }
   },
   "source": [
    "# External Libraries\n",
    "\n",
    "In order to use python effectively, one must often use external libraries called *packages* that have their own set of variables, functions, and classes defined that serve a singular purpose.\n",
    "\n",
    "This lecture will highlight a few packages: `numpy`, `scipy`, and `matplotlib`.  These packages are in many ways the canonical libraries for their respective functions.\n",
    "\n"
   ]
  },
  {
   "cell_type": "markdown",
   "metadata": {
    "slideshow": {
     "slide_type": "subslide"
    }
   },
   "source": [
    "## NumPy\n",
    "\n",
    "NumPy is the essential package for doing scientific computing with Python.  It offers a library of standard numerical routines in linear algebra, Fourier transform, and random number generation.  NumPy's most important feature is its `ndarray` object, which can speed up calculations by an order of magnitude with its vectorized computations.\n",
    "\n",
    "### ndarray\n",
    "\n",
    "We will demonstrate these numpy arrays."
   ]
  },
  {
   "cell_type": "code",
   "execution_count": null,
   "metadata": {},
   "outputs": [],
   "source": [
    "import numpy as np\n",
    "\n",
    "a = np.array([0, 1, 2, 3, 4])\n",
    "type(a)"
   ]
  },
  {
   "cell_type": "markdown",
   "metadata": {},
   "source": [
    "First we had to import `numpy` and we gave it an alias `np`.  Next we called NumPy's array function with a list of integers as an argument and a numpy array was returned.  Note what happens when we try to change one of the elements."
   ]
  },
  {
   "cell_type": "code",
   "execution_count": null,
   "metadata": {},
   "outputs": [],
   "source": [
    "# raises an error!\n",
    "# a[0] = 'fish'"
   ]
  },
  {
   "cell_type": "markdown",
   "metadata": {},
   "source": [
    "Numpy's speed comes from its vectorized operations, namely during arithmetic."
   ]
  },
  {
   "cell_type": "code",
   "execution_count": null,
   "metadata": {},
   "outputs": [],
   "source": [
    "a = np.arange(1,5)\n",
    "print(a)"
   ]
  },
  {
   "cell_type": "code",
   "execution_count": null,
   "metadata": {},
   "outputs": [],
   "source": [
    "# a.shape\n",
    "print(a.shape)"
   ]
  },
  {
   "cell_type": "code",
   "execution_count": null,
   "metadata": {
    "collapsed": true
   },
   "outputs": [],
   "source": []
  },
  {
   "cell_type": "code",
   "execution_count": null,
   "metadata": {},
   "outputs": [],
   "source": [
    "b = np.arange(5,9)\n",
    "b"
   ]
  },
  {
   "cell_type": "code",
   "execution_count": null,
   "metadata": {},
   "outputs": [],
   "source": [
    "print(a)\n",
    "print(b)\n",
    "print(a+b)"
   ]
  },
  {
   "cell_type": "markdown",
   "metadata": {
    "slideshow": {
     "slide_type": "subslide"
    }
   },
   "source": [
    "## SciPy\n",
    "\n",
    "\"The SciPy library is one of the core packages that make up the SciPy stack. It provides many user-friendly and efficient numerical routines such as routines for numerical integration and optimization.\"  Consult the documentation for details: https://docs.scipy.org/doc/scipy/reference/index.html\n",
    "\n",
    "## Scikit-learn\n",
    "\n",
    "Scikit-learn is a popular machine learning/data science library for Python built on NumPy and SciPy.  It may be featured heavily in this class.\n",
    "http://scikit-learn.org/stable/"
   ]
  },
  {
   "cell_type": "markdown",
   "metadata": {},
   "source": [
    "## Matplotlib\n",
    "\n",
    "Matplotlib is the standard plotting library in Python.  Simple plots can be generated very quickly.  There are plenty of visualization options to make publication-quality graphs.  https://matplotlib.org/\n",
    "\n",
    "Once installed, we import it into a program file:"
   ]
  },
  {
   "cell_type": "code",
   "execution_count": null,
   "metadata": {
    "collapsed": true
   },
   "outputs": [],
   "source": [
    "import matplotlib.pyplot as plt"
   ]
  },
  {
   "cell_type": "markdown",
   "metadata": {},
   "source": [
    "A simple line plot comes from calling `matplotlib.pyplot`'s `plot` function:"
   ]
  },
  {
   "cell_type": "code",
   "execution_count": null,
   "metadata": {
    "collapsed": true
   },
   "outputs": [],
   "source": [
    "plt.plot(np.arange(11)**2)"
   ]
  },
  {
   "cell_type": "markdown",
   "metadata": {},
   "source": [
    "Plot labels can be added very easily:"
   ]
  },
  {
   "cell_type": "code",
   "execution_count": null,
   "metadata": {
    "collapsed": true
   },
   "outputs": [],
   "source": [
    "plt.plot(np.arange(11)**2)\n",
    "plt.xlabel(\"Value\")\n",
    "plt.ylabel(\"Squared Value\")\n",
    "plt.suptitle(\"Plot of Squares\")"
   ]
  },
  {
   "cell_type": "code",
   "execution_count": null,
   "metadata": {
    "collapsed": true
   },
   "outputs": [],
   "source": [
    "np.linspace(0, 10, 20)**2"
   ]
  },
  {
   "cell_type": "markdown",
   "metadata": {
    "slideshow": {
     "slide_type": "slide"
    }
   },
   "source": [
    "# IPython and Jupyter Notebooks\n",
    "\n",
    "Ipython and jupyter notebooks will be used extensively for this course.  This slideshow was created in a jupyter notebook!  Notebooks are great web applications for code cells to be accompanied by markdown text."
   ]
  },
  {
   "cell_type": "markdown",
   "metadata": {
    "collapsed": true,
    "slideshow": {
     "slide_type": "slide"
    }
   },
   "source": [
    "# A Few Suggested Resources\n",
    "\n",
    "* Total beginners - *Automate the Boring Stuff with Python*\n",
    "* General resource - *Python Crash Course*\n",
    "* Tips & Tricks - *Effective Python: 59 Specific Ways to Write Better Python*\n",
    "\n",
    "There are thousands of resources on the web."
   ]
  },
  {
   "cell_type": "code",
   "execution_count": null,
   "metadata": {
    "collapsed": true
   },
   "outputs": [],
   "source": []
  }
 ],
 "metadata": {
  "celltoolbar": "Slideshow",
  "kernelspec": {
   "display_name": "Python 3",
   "language": "python",
   "name": "python3"
  },
  "language_info": {
   "codemirror_mode": {
    "name": "ipython",
    "version": 3
   },
   "file_extension": ".py",
   "mimetype": "text/x-python",
   "name": "python",
   "nbconvert_exporter": "python",
   "pygments_lexer": "ipython3",
   "version": "3.5.2"
  }
 },
 "nbformat": 4,
 "nbformat_minor": 1
}

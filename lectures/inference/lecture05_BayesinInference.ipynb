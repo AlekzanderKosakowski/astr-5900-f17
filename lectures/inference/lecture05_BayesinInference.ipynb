{
 "cells": [
  {
   "cell_type": "markdown",
   "metadata": {},
   "source": [
    "# Bayesian Inference\n",
    "\n",
    "K. Leighly and A. Kerr 2017\n",
    "\n",
    "This lecture was drawn from the following sources:\n",
    " - G. Richards \"Inference2\" lecture\n",
    " - Ivezic \"Week-4-Tue\" lecture\n",
    " - Ivezic Chapter 5\n",
    " - \"Data Analysis: a Bayesian Tutorial\", D. S. Sivia and J. Skilling"
   ]
  },
  {
   "cell_type": "markdown",
   "metadata": {},
   "source": [
    "## Outline\n",
    "\n",
    " - Bayes' rule recap.\n",
    " - Example: Is this a fair coin?\n",
    " - Example: The effect of different priors on the fair coin example.\n",
    " - Interlude: Philosophy & History\n",
    " - Statement on Bayesian Statistical Inference\n",
    " - What to do with the Posterior Probability Distribution\n",
    " - Example: Gaussian Noise and Averages\n",
    " - Example: Data with Different Sized Error Bars\n",
    " - Example: $\\sigma$ Unknown\n",
    " - Marginalization\n",
    " - Priors"
   ]
  },
  {
   "cell_type": "markdown",
   "metadata": {},
   "source": [
    "### Preface\n",
    "\n",
    "Bayesian and frequentist methods don't just differ in practice, they differ in logic as well.\n",
    "\n",
    "Consider a suspect in a murder case, Colonel Mustard, out of $n$ total suspects.  If we knew nothing about the case, we might apply a probability of $1/n$ of Mustard being guilty.  However if DNA tests from the crime scene match Mustard's genotype, we will update this probability.\n",
    "\n",
    "We know Colonel Mustard is either guilty or he's not and this fact doesn't change with DNA test results.  Therefore probabilities correspond to the *belief* that Mustard is guilty.  One way to think of this problem is Colonel Mustard coming with a guilt parameter that is either 0 (certainly innocent) or 1 (certainly guilty).  The initial probabilities were the probabilities for these parameters.\n",
    "\n",
    "Bayesian statistics uses the same idea: by interpreting probability as a degree of belief, model parameters are viewed as random variables rather than an unknown constant."
   ]
  },
  {
   "cell_type": "markdown",
   "metadata": {},
   "source": [
    "Recall Bayes' rule:\n",
    "\n",
    "$$P(B|A)=\\frac{P(A|B)P(B)}{P(A)} \\sim P(A|B)P(B).$$\n",
    "\n",
    " - $P(A|B)$ is known as the **likelihood**, and can be thought as the probability that the data that you have ($A$) matchs your model ($B$).\n",
    " - $P(B)$ is the **prior**, and it can be thought of as additional knowledge that you already have about the model.\n",
    " - $P(A)$ is the **evidence**, and as mentioned above, it is sometimes ignored because the posterior can be normalized _a posteriori_.\n",
    " - $P(B|A)$ is the **posterior probability**, can be though of as the probabiity of the model given the data, and is what you want.\n",
    " \n",
    "We can write this in words as:\n",
    "$${\\rm Posterior Probability} = \\frac{{\\rm Likelihood}\\times{\\rm Prior}}{{\\rm Evidence}},$$\n",
    "\n",
    "where we interpret the posterior probability as the probability of the model (including the model parameters).\n",
    "\n",
    "\n",
    "### The Essence of the Bayesian Method \n",
    "\n",
    "The basic premise of the Bayesian method is that probability statements are not limited to data, \n",
    "but can be made for model parameters and models themselves. Inferences are made by producing \n",
    "probability density functions (pdfs); most notably, **model parameters are treated as random variables**.\n",
    "\n",
    "Let us illustrate through some examples."
   ]
  },
  {
   "cell_type": "markdown",
   "metadata": {},
   "source": [
    "### Example: Is this a fair coin?\n",
    "\n",
    "Taken from Sivia Chapter 2.\n",
    "\n",
    "Suppose I told you that I had been to Las Vegas, where I had come across a strange coin:  I observed 4 heads in 11 tosses.  The question is, is it a fair coin?  \n",
    "\n",
    "Set this problem up as a question about the hypothesis that the coin has a bias H that lies between zero and 1, where $H=0.5$ is a fair coin.\n",
    "\n",
    "We will be looking for the distribuiton of $H$, which will measure our confidence in the bias of the coin, so that we would expect a fair coin to produce an $H$ strongly peaked at 0.5 if we have a very large number of measurements. In this way, we continue with the idea that H is not an absolute, but something that itself is unknown and decribed by a probability distribution.\n",
    "\n"
   ]
  },
  {
   "cell_type": "markdown",
   "metadata": {},
   "source": [
    "It then follows that our inference about the fairness of the coin is summarized by this conditional PDF:\n",
    "\n",
    "$$P(H|\\{data\\},I)$$\n",
    "\n",
    "In other words, the probability that H lies between, say, 0.1 and 0.2, will be $\\int_{0.1}^{0.2} P(H|\\{data\\},I)dH$.\n",
    "\n"
   ]
  },
  {
   "cell_type": "markdown",
   "metadata": {},
   "source": [
    "We use Bayes theorem to convert this into a more tractable problem, noting that we are ignoring the denominator and will integrate over that afterwards to make the integrated probability equal to 1:\n",
    "\n",
    "$$P(H|\\{data\\},I) \\propto P(\\{data\\}|H,I) \\times P(H|I).$$\n",
    "\n",
    "$P(H|I)$ is the prior PDF. Assuming that we do not know anything about this coin, we assume:\n",
    "\n",
    "$$P(H|I)= \\begin{cases} 1 & 0 \\leq H \\leq 1, \\\\ 0 & \\mbox{otherwise}.\\end{cases} $$\n",
    "\n",
    "Assuming that the flips of the coin are independent events, the binomial distribution applies:\n",
    "\n",
    "$$P(\\{data\\}|H,I) = \\binom{N}{R} H^R(1-H)^{N-R}= \\frac{N!}{R!(N-R)!} H^R(1-H)^N$$\n",
    "\n",
    "where $R$ is the number of heads (say) in $N$ tosses. (That this true is easy to see from the multiplicative law of probability and the independence of the tosses.)\n",
    "\n",
    "So we can do this example, as follows.  In particular, note how the PDF evolves (and with it, our inference about the true bias $H$) as the number of samples increases.\n",
    "\n"
   ]
  },
  {
   "cell_type": "code",
   "execution_count": 1,
   "metadata": {
    "collapsed": true
   },
   "outputs": [],
   "source": [
    "import numpy as np\n",
    "import scipy.special as special\n",
    "import matplotlib.pyplot as plt\n",
    "\n",
    "trials = [0, 1, 2, 3, 4, 5, 10, 100, 1000]\n",
    "p = 0.3\n",
    "\n",
    "x = np.linspace(0, 1, 500)\n",
    "\n",
    "def prior(x):\n",
    "    return np.ones(x.shape)\n",
    "\n",
    "def likelihood(x, n, k):\n",
    "    \"\"\"Binomial distribution; note the lack of normalization because posteriors can\n",
    "    be normalized a posteri.\"\"\"\n",
    "    return (x**k)*(1-x)**(n-k)\n",
    "\n",
    "def posterior(x, n, k):\n",
    "    post = likelihood(x,n,k)*prior(x)\n",
    "    return post/np.sum(post)*x.shape[0]\n",
    "\n",
    "def flip():\n",
    "    \n",
    "    k = 0\n",
    "    \n",
    "    for n in range(max(trials)+1):\n",
    "        \n",
    "        if n in trials:\n",
    "            print('Flips: {}'.format(n))\n",
    "            print('Heads: {}'.format(k))\n",
    "            plt.plot(x, posterior(x,n,k))\n",
    "            plt.show()\n",
    "        \n",
    "        a = np.random.uniform()\n",
    "        if a <= p:\n",
    "            k += 1\n",
    "\n",
    "            "
   ]
  },
  {
   "cell_type": "code",
   "execution_count": 2,
   "metadata": {},
   "outputs": [
    {
     "name": "stdout",
     "output_type": "stream",
     "text": [
      "Flips: 0\n",
      "Heads: 0\n"
     ]
    },
    {
     "data": {
      "image/png": "[encoded data removed]",
      "text/plain": [
       "<matplotlib.figure.Figure at 0x7f0a580ee470>"
      ]
     },
     "metadata": {},
     "output_type": "display_data"
    },
    {
     "name": "stdout",
     "output_type": "stream",
     "text": [
      "Flips: 1\n",
      "Heads: 0\n"
     ]
    },
    {
     "data": {
      "image/png": "[encoded data removed]",
      "text/plain": [
       "<matplotlib.figure.Figure at 0x7f0a29f61208>"
      ]
     },
     "metadata": {},
     "output_type": "display_data"
    },
    {
     "name": "stdout",
     "output_type": "stream",
     "text": [
      "Flips: 2\n",
      "Heads: 0\n"
     ]
    },
    {
     "data": {
      "image/png": "[encoded data removed]",
      "text/plain": [
       "<matplotlib.figure.Figure at 0x7f0a29e9fd30>"
      ]
     },
     "metadata": {},
     "output_type": "display_data"
    },
    {
     "name": "stdout",
     "output_type": "stream",
     "text": [
      "Flips: 3\n",
      "Heads: 0\n"
     ]
    },
    {
     "data": {
      "image/png": "[encoded data removed]",
      "text/plain": [
       "<matplotlib.figure.Figure at 0x7f0a29e12978>"
      ]
     },
     "metadata": {},
     "output_type": "display_data"
    },
    {
     "name": "stdout",
     "output_type": "stream",
     "text": [
      "Flips: 4\n",
      "Heads: 0\n"
     ]
    },
    {
     "data": {
      "image/png": "[encoded data removed]",
      "text/plain": [
       "<matplotlib.figure.Figure at 0x7f0a29d7ca20>"
      ]
     },
     "metadata": {},
     "output_type": "display_data"
    },
    {
     "name": "stdout",
     "output_type": "stream",
     "text": [
      "Flips: 5\n",
      "Heads: 1\n"
     ]
    },
    {
     "data": {
      "image/png": "[encoded data removed]",
      "text/plain": [
       "<matplotlib.figure.Figure at 0x7f0a29e1b860>"
      ]
     },
     "metadata": {},
     "output_type": "display_data"
    },
    {
     "name": "stdout",
     "output_type": "stream",
     "text": [
      "Flips: 10\n",
      "Heads: 4\n"
     ]
    },
    {
     "data": {
      "image/png": "[encoded data removed]",
      "text/plain": [
       "<matplotlib.figure.Figure at 0x7f0a29d82e48>"
      ]
     },
     "metadata": {},
     "output_type": "display_data"
    },
    {
     "name": "stdout",
     "output_type": "stream",
     "text": [
      "Flips: 100\n",
      "Heads: 40\n"
     ]
    },
    {
     "data": {
      "image/png": "[encoded data removed]",
      "text/plain": [
       "<matplotlib.figure.Figure at 0x7f0a29dbad30>"
      ]
     },
     "metadata": {},
     "output_type": "display_data"
    },
    {
     "name": "stdout",
     "output_type": "stream",
     "text": [
      "Flips: 1000\n",
      "Heads: 322\n"
     ]
    },
    {
     "data": {
      "image/png": "[encoded data removed]",
      "text/plain": [
       "<matplotlib.figure.Figure at 0x7f0a29d2d908>"
      ]
     },
     "metadata": {},
     "output_type": "display_data"
    }
   ],
   "source": [
    "            \n",
    "flip()"
   ]
  },
  {
   "cell_type": "markdown",
   "metadata": {},
   "source": [
    "## The effect  of different priors\n",
    "\n",
    "In the example above, we chose a uniform prior, as it perfectly describes our state of ignorance. What would happen if we had chosen a different prior?\n",
    "\n",
    "The example below shows the case of two alternative priors, one peaked around 0.5 (e.g., representing the assumption that most coins are fair), and the other is strongly peaked at 0 and 1, i.e., a heavily biased coin. The figure shows that for few tosses, the results are heavily biased by the prior, but for a large number of tosses, the results are identical to the uniform prior.\n",
    "\n",
    "In addition, the form of the prior influences the estimated PDF in different ways, for few tosses: for the symmetric prior peaked at 0.5, the estimated PDF strongly resembles the prior, while for the prior peaking at 0 and 1, the estimated PDF resembles the result from the uniform prior."
   ]
  },
  {
   "cell_type": "code",
   "execution_count": 3,
   "metadata": {
    "collapsed": true
   },
   "outputs": [],
   "source": [
    "# write different priors\n",
    "\n",
    "dx = x[1]-x[0]\n",
    "\n",
    "def gaussian(x, mu, sigma):\n",
    "    return np.exp(-0.5*((x-mu)/sigma)**2)/sigma/np.sqrt(2*np.pi)\n",
    "\n",
    "def prior_fair(x):\n",
    "    \"\"\"Return a gaussian centered around 0.5\"\"\"\n",
    "    prior = gaussian(x, 0.5, .1)\n",
    "    return prior/np.sum(prior)/dx\n",
    "\n",
    "def prior_0(x):\n",
    "    \"\"\"Return a gaussian centered around 0.\"\"\"\n",
    "    prior = gaussian(x, 0., .1)\n",
    "    return prior/np.sum(prior)/dx\n",
    "\n",
    "def prior_1(x):\n",
    "    prior = gaussian(x, 1., .2)\n",
    "    return prior/np.sum(prior)/dx\n",
    "\n",
    "\n",
    "# rewrite flip to allow variable priors\n",
    "def posterior(x, n, k):\n",
    "    post = likelihood(x,n,k)*prior_0(x)\n",
    "    return post/np.sum(post)/dx\n",
    "\n",
    "def flip():\n",
    "    \n",
    "    k = 0\n",
    "    \n",
    "    for n in range(max(trials)+1):\n",
    "        \n",
    "        if n in trials:\n",
    "            print('Flips: {}'.format(n))\n",
    "            print('Heads: {}'.format(k))\n",
    "            plt.plot(x, posterior(x,n,k))\n",
    "            plt.show()\n",
    "        \n",
    "        a = np.random.uniform()\n",
    "        if a <= p:\n",
    "            k += 1"
   ]
  },
  {
   "cell_type": "code",
   "execution_count": 4,
   "metadata": {},
   "outputs": [
    {
     "name": "stdout",
     "output_type": "stream",
     "text": [
      "Flips: 0\n",
      "Heads: 0\n"
     ]
    },
    {
     "data": {
      "image/png": "[encoded data removed]",
      "text/plain": [
       "<matplotlib.figure.Figure at 0x7f0a580ee208>"
      ]
     },
     "metadata": {},
     "output_type": "display_data"
    },
    {
     "name": "stdout",
     "output_type": "stream",
     "text": [
      "Flips: 1\n",
      "Heads: 1\n"
     ]
    },
    {
     "data": {
      "image/png": "[encoded data removed]",
      "text/plain": [
       "<matplotlib.figure.Figure at 0x7f0a29cdfdd8>"
      ]
     },
     "metadata": {},
     "output_type": "display_data"
    },
    {
     "name": "stdout",
     "output_type": "stream",
     "text": [
      "Flips: 2\n",
      "Heads: 1\n"
     ]
    },
    {
     "data": {
      "image/png": "[encoded data removed]",
      "text/plain": [
       "<matplotlib.figure.Figure at 0x7f0a29e1b2e8>"
      ]
     },
     "metadata": {},
     "output_type": "display_data"
    },
    {
     "name": "stdout",
     "output_type": "stream",
     "text": [
      "Flips: 3\n",
      "Heads: 1\n"
     ]
    },
    {
     "data": {
      "image/png": "[encoded data removed]",
      "text/plain": [
       "<matplotlib.figure.Figure at 0x7f0a29ea9470>"
      ]
     },
     "metadata": {},
     "output_type": "display_data"
    },
    {
     "name": "stdout",
     "output_type": "stream",
     "text": [
      "Flips: 4\n",
      "Heads: 1\n"
     ]
    },
    {
     "data": {
      "image/png": "[encoded data removed]",
      "text/plain": [
       "<matplotlib.figure.Figure at 0x7f0a29cb3ef0>"
      ]
     },
     "metadata": {},
     "output_type": "display_data"
    },
    {
     "name": "stdout",
     "output_type": "stream",
     "text": [
      "Flips: 5\n",
      "Heads: 1\n"
     ]
    },
    {
     "data": {
      "image/png": "[encoded data removed]",
      "text/plain": [
       "<matplotlib.figure.Figure at 0x7f0a29ebbfd0>"
      ]
     },
     "metadata": {},
     "output_type": "display_data"
    },
    {
     "name": "stdout",
     "output_type": "stream",
     "text": [
      "Flips: 10\n",
      "Heads: 3\n"
     ]
    },
    {
     "data": {
      "image/png": "[encoded data removed]",
      "text/plain": [
       "<matplotlib.figure.Figure at 0x7f0a29e1db00>"
      ]
     },
     "metadata": {},
     "output_type": "display_data"
    },
    {
     "name": "stdout",
     "output_type": "stream",
     "text": [
      "Flips: 100\n",
      "Heads: 28\n"
     ]
    },
    {
     "data": {
      "image/png": "[encoded data removed]",
      "text/plain": [
       "<matplotlib.figure.Figure at 0x7f0a29b70d30>"
      ]
     },
     "metadata": {},
     "output_type": "display_data"
    },
    {
     "name": "stdout",
     "output_type": "stream",
     "text": [
      "Flips: 1000\n",
      "Heads: 290\n"
     ]
    },
    {
     "data": {
      "image/png": "[encoded data removed]",
      "text/plain": [
       "<matplotlib.figure.Figure at 0x7f0a29b112b0>"
      ]
     },
     "metadata": {},
     "output_type": "display_data"
    }
   ],
   "source": [
    "# switch out prior function in posterior before you call\n",
    "\n",
    "flip()"
   ]
  },
  {
   "cell_type": "markdown",
   "metadata": {},
   "source": [
    "##  Interlude - Philosophy and History\n",
    "\n",
    "We can see from these simple examples that implementing Bayes' rule gives a powerful method for taking into account prior knowledge.  Otherwise, it doesn't seem to be that much different from what we have done before.  And in some ways, that is true: in both the frequentist approach and the Bayesian approach, the likelihood (the probability of the data given the model) is an important part of the analysis.  \n",
    "\n",
    "There are also some interesting philosophical differences as well.  The likelihood and the frequentist approach is understood to be completely appliable to the long-term probability of observing some repeatable event, like the probability of obtaining heads.\n",
    "\n",
    "But in science, we often have only one instance of a thing, e.g., the mass of a particular planet.  In that case, the Bayesian approach arguably makes more sense, since it yields a measure in your belief that the inferred result is correct.  \n",
    "\n",
    "It can also be argued that the Bayesian posterior is closer to what we want to determine in science, i.e., the probability that a given model is correct given the data that you have, and any prior knowledge.\n",
    "\n"
   ]
  },
  {
   "cell_type": "markdown",
   "metadata": {},
   "source": [
    "If a Bayesian approach makes more sense, then why do we learn the frequentist approach in school?  \n",
    "\n",
    "There are many answers to this question.  A common one these days is that in many cases, the posterior probability distribution can't be evaluated analytically, and so we couldn't really use a Bayesian approach until computers were powerful enough to do that.  But that doesn't explain the [\"Bayesian Revolution\"](https://www.nytimes.com/2014/09/30/science/the-odds-continually-updated.html?) that has seen an explosion in this technique over the past 15 years or so: although computers are more powerful and cheaper than ever, we did have powerful computers in the 20th century.  \n",
    "\n",
    "An interesting and readable discussion is contained in [\"The Theory that Would Not Die\"](https://www.amazon.com/Theory-That-Would-Not-Die-ebook/dp/B0050QB3EQ/ref=sr_1_1?ie=UTF8&qid=1504455374&sr=8-1&keywords=the+theory+that+would+not+die+how+bayes%27+rule+cracked).  Basically, this book presents the idea that a combination of powerful personalities (Fisher, in particular), and the fact that Bayesian statistics was used in wartime applications, which led to the advances being classified, resulted in a lag in Bayesian applications that is only now being rectified."
   ]
  },
  {
   "cell_type": "markdown",
   "metadata": {},
   "source": [
    "## Bayesian Statistical Inference\n",
    "\n",
    "Up to now we have been computing the **likelihood** $p(D\\,|\\,M)$.  In Bayesian inference, we instead evaluate the **posterior probability** taking into account **prior** information.\n",
    "\n",
    "Recall that Bayes' Rule is:\n",
    "$$p(M\\,|\\,D) = \\frac{p(D\\,|\\,M)\\,p(M)}{p(D)},$$\n",
    "where $D$ is for data and $M$ is for model. Or in words, \n",
    "$${\\rm Posterior \\,\\, Probability} = \\frac{{\\rm Likelihood}\\times{\\rm Prior}}{{\\rm Evidence}}.$$\n",
    "\n",
    "If we explicitly recognize prior information, $I$, and the model parameters, $\\theta$, then we can write:\n",
    "$$p(M,\\theta \\,|\\,D,I) = \\frac{p(D\\,|\\,M,\\theta,I)\\,p(M,\\theta\\,|\\,I)}{p(D\\,|\\,I)},$$\n",
    "where we will omit the explict dependence on $\\theta$ by writing $M$ instead of $M,\\theta$ where appropriate.  However, as the prior can be expanded to \n",
    "$$p(M,\\theta\\,|\\,I) = p(\\theta\\,|\\,M,I)\\,p(M\\,|\\,I),$$\n",
    "it will still appear in the term $p(\\theta\\,|\\,M,I)$.\n",
    "\n",
    "Note that it is often the case that $p(D\\,|\\,I)$ is not evaluated explictly since the posterior probability \n",
    "can be (re)normalized. "
   ]
  },
  {
   "cell_type": "markdown",
   "metadata": {},
   "source": [
    "**The Bayesian Statistical Inference process** is then\n",
    "* formulate the likelihood, $p(D\\,|\\,M,\\theta,I)$\n",
    "* chose a prior$^1$, $p(M,\\theta\\,|\\,I)$, which incorporates *other information beyond the data in $D$*\n",
    "* determine the posterior pdf, $p(M,\\theta \\,|\\,D,I)$\n",
    "* search for the model parameters that maximize $p(M,\\theta \\,|\\,D,I)$ - we will discuss this momentarily.\n",
    "* quantify the uncertainty of the model parameter estimates - we will discuss this momentarily too.\n",
    " \n",
    "$^1$: Note that $p(M,\\theta\\,|\\,I) = p(\\theta\\,|\\,M, I)\\, p(M\\,|\\,I)$.  \n",
    "\n",
    "Going back to our bus arrival problem, our unknown model parameter is $\\tau$ and data is $t$, so that \n",
    "$$p(\\tau\\,|\\,t,I) = p(t\\,|\\,\\tau) \\, p(\\tau\\,|\\,I).$$\n",
    "\n",
    "Before applying this expression, we need to discuss how to choose priors, here $p(\\tau\\,|\\,I)$."
   ]
  },
  {
   "cell_type": "markdown",
   "metadata": {},
   "source": [
    "## What to do with the Posterior Probability Distribution?\n",
    "\n",
    "The result of our analysis is the posterior probability distribution.   That has all the information about the problem.  But sometimes one wants to summarize the result (e.g., in a table) by two numbers: the point best estimate, and its _reliability_.\n",
    "\n",
    "Well, this is mostly based on what we already know.  But there is some ambiguity because the point estimate is not part of Bayes' Rule, so how to best characterize it can be debated.\n",
    "\n"
   ]
  },
  {
   "cell_type": "markdown",
   "metadata": {},
   "source": [
    "### MAP\n",
    "\n",
    "Let the quantity of interest be denoted $X$, with a posterior PDF $P=P(X\\vert \\{data\\},I)$.\n",
    "\n",
    "Then the best estimate, denoted $X_0$ is given by the condition:\n",
    "\n",
    "$$\\frac{dP}{dX}\\lvert_{X_0}=0$$\n",
    "\n",
    "i.e., the maximum of the PDF. (In principal one should use the second derivative to be sure that $X_0$ is a maximum rather than a minimum.)  This is called the _maximum a posteriori_ (MAP) estimate."
   ]
  },
  {
   "cell_type": "markdown",
   "metadata": {},
   "source": [
    "### Posterior Mean\n",
    "\n",
    "Another natural choice is the _posterior mean_:\n",
    "\n",
    "$$\\bar \\theta = \\int \\theta p(\\theta | D) d\\theta,$$\n",
    "\n",
    "where $\\theta$ is one of the model parameters, and $D$ is the data. $p(\\theta | D)$ is obtained from the full posterior $p(M,\\mathbf{\\Theta} | D, I)$, where $\\mathbf{\\Theta}$ denotes all the model parameters, using _marginalization_.  We will discuss marginalization further below."
   ]
  },
  {
   "cell_type": "markdown",
   "metadata": {},
   "source": [
    "### Credible regions\n",
    "\n",
    "The width or spread of the distribution is used to characterize the reliability of the estimate. As with the point estimate, there are a number of ways to estimate this.  First, we can look at a method that looks very much like MLE.\n",
    "\n",
    "\n",
    "It turns out that it is easier to work with the logarithm of the PDF:\n",
    "\n",
    "$$L=\\log_e[P(X|\\{data\\},I)].$$\n",
    "\n",
    "Then, it is also helpful to expand L in a Taylor series around $X=X_0$:\n",
    "\n",
    "$$L=L(X_0)+\\frac{1}{2} \\frac{d^2L}{dX^2}|_{X_0} (X-X_0)^2+\\dotsc,$$\n",
    "\n",
    "where the best estimate of $X$ is also given by:\n",
    "\n",
    "$$\\frac{dL}{dX}|_{X_0}=0,$$\n",
    "\n",
    "which is equivalent to the result above because $L$ is a monotonic function of $P$."
   ]
  },
  {
   "cell_type": "markdown",
   "metadata": {},
   "source": [
    "The first term in the expansion is constant, gives no information, and can be dropped. So the likelihood is dominated by the quadratic term in determining the width of the posterior of the PDF (after taking the exponential):\n",
    "\n",
    "$$prob(X|\\{data\\},I) \\sim A \\exp \\left[ \\frac{1}{2} \\frac{d^2L}{dX^2} \\lvert_{X_0} (X-X_0)^2 \\right]$$\n",
    "\n",
    "where the $\\sim$ and the $A$ denote that this PDF will have to be normalized. This is a normal distribution which we have previously written as\n",
    "\n",
    "$$prob(x|\\mu,\\sigma) = \\frac{1}{\\sigma\\sqrt{2\\pi}} \\exp \\left[-\\frac{(x-\\mu)^2}{2\\sigma^2} \\right].$$\n",
    "\n",
    "This function is, of course, characterized by the mean $\\mu$ and the standard deviation $\\sigma$, where it can be shown that\n",
    "\n",
    "$$\\sigma=\\left(-\\frac{d^2L}{dX^2}|_{X_0}\\right)^{-1/2}.$$\n",
    "\n",
    "Notice what we have done here. We have taken a (basically) arbitrary probability density function, Taylor-expanded it about the peak, and thrown away higher orders. This basically turned the PDF in to a normal distribution, which is characterized by the mean $\\mu$ and the standard deviation $\\sigma$."
   ]
  },
  {
   "cell_type": "markdown",
   "metadata": {},
   "source": [
    "## Example:\n",
    "\n",
    "Return to the coin experiment as an application of this analysis. We have the binomial distribution\n",
    "$$prob(H|\\{data\\}),I) \\propto H^R (1-H)^{N-R},$$\n",
    "where $0 \\leq H\\leq 1$.\n",
    "\n",
    "Let's get the log likelihood to find the properties of the distribution:\n",
    "\n",
    "$$ L = constant + R\\log_e(H) + (N-R) \\log_e(1-H).$$\n",
    "\n",
    "Obtain the best estimate of $H$ and its error bar from the first and second derivatives:\n",
    "\n",
    "$$\\frac{dL}{dH} = \\frac{R}{H}-\\frac{(N-R)}{(1-H)}$$\n",
    "$$\\frac{d^2L}{dH^2} = -\\frac{R}{H^2} - \\frac{(N-R)}{(1-H)^2}.$$\n",
    "\n",
    "Find the maximum by setting the first derivative equal to zero and solving for $H_0$ yields\n",
    "\n",
    "$$H_0=\\frac{R}{N}.$$\n",
    "\n",
    "The error bar is then equal to the second derivative evaluated at $H=H_0$, yielding:\n",
    "\n",
    "$$\\sigma=\\sqrt{\\frac{H_0(1-H_0)}{N}}.$$\n",
    "\n",
    "Note that the width of the PDF decreases proportional to the square root of $N$, the number of samples.\n",
    "\n",
    "These are the theoretical mean and $\\sigma$ discussed in Lecture 3."
   ]
  },
  {
   "cell_type": "markdown",
   "metadata": {},
   "source": [
    "### What if the posterior is asymmetric?\n",
    "\n",
    "\n",
    "How can you characterize data when the PDF is asymmetric? As discussed above, a good way might be to characterize the most representative value as the weighted mean, i.e, $E\\{X\\}$:\n",
    "\n",
    "$$\\langle X \\rangle = \\int X prob(X|\\{data\\},I) dX.$$\n",
    "\n",
    "The error is even less well defined but might be understood to be the limits that, say, 95% of the probability density lies between.\n",
    "\n"
   ]
  },
  {
   "cell_type": "markdown",
   "metadata": {},
   "source": [
    "## Example: Gaussian Noise and Averages\n",
    "\n",
    "Now we will commence to work a series of examples of increasing complexity where various parts of the data sets are drawn from normal distributions.  First, consider the ubiquitous experiment: you have a set of $N$ measurements $\\{x_k\\}$ of the length of a rod. The measurement errors are Gaussian, and we assume that they are known, and they are the same (homoscedastic errors). So the probability of the $k$th point having a value of $x_k$ (i.e., the likelihood) is\n",
    "\n",
    "$$prob(x_k | \\mu,\\sigma) = \\frac{1}{\\sigma\\sqrt{2\\pi}} \\exp \\left[ -\\frac{(x_k-\\mu)^2}{2\\sigma^2}\\right],$$\n",
    "\n",
    "where $\\mu$ is the true value of the parameter of interest, and $\\sigma$ is the measure of the error in its measurement.  _For this example, $\\sigma$ is known._"
   ]
  },
  {
   "cell_type": "markdown",
   "metadata": {},
   "source": [
    "The question then is, given the data $\\{x_k\\}$, what is the best estimate of $\\mu$ and how confident are we in this prediction?\n",
    "\n",
    "From the Bayesian standpoint, what we need to evaluate is the posterior pdf $prob(\\mu ) |\\{x_k\\},\\sigma,I)$, i.e., the conditional probability that $\\mu$ attains a certain value, given the data $\\{x_k\\}$, the uncertainty $\\sigma$, and any prior knowledge $I$. By Bayes theorem:\n",
    "\n",
    "$$prob(\\mu|\\{x_k\\},\\sigma,I) \\propto prob(\\{x_k\\}|\\mu,\\sigma,I) \\times prob(\\mu|\\sigma,I).$$"
   ]
  },
  {
   "cell_type": "markdown",
   "metadata": {},
   "source": [
    "If the measurements are independent, then the probability of the set of measurements $\\{x_k\\}$ is the product of the probability of each individual measurement (by the product rule):\n",
    "\n",
    "$$prob(\\{x_k\\} | \\mu,\\sigma,I) = \\prod_{k=1}^{N} prob(x_k | \\mu,\\sigma,I).$$\n",
    "\n",
    "For the prior, a simple uniform PDF is used (noting that the value of the standard deviation gives no information about the mean)\n",
    "\n",
    "$$prob(\\mu|\\sigma,I) = prob(\\mu|I)=\\begin{cases} A & \\mu_{min} \\leq \\mu \\leq \\mu_{max}, \\\\ 0 & \\mbox{otherwise}, \\end{cases} $$\n",
    "\n",
    "where the constant $A$ is given by the reciprocal of the range $\\mu_{max}-\\mu_{min}$."
   ]
  },
  {
   "cell_type": "markdown",
   "metadata": {},
   "source": [
    "Substituting in for the probability of a single $x_k$ having a mean of $\\mu$ (recall in this case we are assuming that the data are drawn from the normal distribution), we get a logarithm of the posterior likelihood $L$\n",
    "\n",
    "$$L = \\log_e[prob(\\mu|\\{x_k\\},\\sigma,I)] $$\n",
    "$$= constant-\\sum_{k=1}^N \\frac{(x_k-\\mu)^2}{2\\sigma^2}.$$\n",
    "\n",
    "As above, to find the best estimate of $\\mu$, we differentiate with respect to $\\mu$ and set the derivative equal to zero:\n",
    "\n",
    "$$\\frac{dL}{d\\mu}|_{\\mu_0} = \\sum_{k=1}^{N} \\frac{x_k-\\mu_0}{\\sigma^2}\n",
    "= 0.$$"
   ]
  },
  {
   "cell_type": "markdown",
   "metadata": {},
   "source": [
    "For this case, $\\sigma$ is a constant independent of $k$, so the equation can be rearranged as follows:\n",
    "\n",
    "$$\\sum_{k=1}^{N} x_k = \\sum_{k=1}^N \\mu_0 = N\\mu_0.$$\n",
    "\n",
    "Therefore, the best estimate of $\\mu$ is the average of the set of $\\{x_k\\}$:\n",
    "\n",
    "$$\\mu_0=\\frac{1}{N} \\sum_{k=1}^{N} x_k.$$"
   ]
  },
  {
   "cell_type": "markdown",
   "metadata": {},
   "source": [
    "For the best estimate of the uncertainty in $\\mu_0$, we use the second derivative of $L$, as above:\n",
    "\n",
    "$$\\frac{d^2L}{d\\mu^2}|_{\\mu_0} = - \\sum_{k=1}^{N} \\frac{1}{\\sigma^2} = -\\frac{N}{\\sigma^2}.$$\n",
    "\n",
    "As above, the uncertainty we are looking for is 1 over the square root of this value, so\n",
    "\n",
    "$$\\mu = \\mu_0 \\pm \\frac{\\sigma}{\\sqrt{N}}.$$\n",
    "\n",
    "This is the familiar result that we know so well. (And which we have already derived in this class - but it is so fundamental that it bears repeating.)"
   ]
  },
  {
   "cell_type": "markdown",
   "metadata": {},
   "source": [
    "Note some important features of this derivation:\n",
    "\n",
    "When we examined the likelihood above, we used a Taylor expansion and dropped higher-order terms. This result, however, is exact, because higher order derivatives of the log Gaussian are equal to zero.\n",
    "\n",
    "\n",
    "Also, the prior didn't appear explicitly in the analysis. (It was gathered into the constant in the equation above.) But whether or not it will appear depends on how the $\\mu_{min}$ and $\\mu_{max}$ are related to the width of the resulting posterior. If the prior knowledge tells us that the values outside of this range are not allowed, the posterior would be modified by the range (and the best estimate and uncertainty in the estimate would change."
   ]
  },
  {
   "cell_type": "markdown",
   "metadata": {},
   "source": [
    "##  Example: Data with different-sized error bars\n",
    "\n",
    "A more general case occurs when the error bar on each point is allowed to be different, i.e., we have $\\{\\sigma_k\\}$ as well as $\\{x_k\\}$. Now, the probability of the kth datum having a value of $x_k$ is (assuming that the uncertainties are distributed normally):\n",
    "\n",
    "$$prob(x_k | \\mu,\\sigma_k) = \\frac{1}{\\sigma_k \\sqrt{2\\pi}} \\exp\n",
    "\\left[-\\frac{(x_k-\\mu)^2}{2\\sigma_k^2}\\right].$$\n",
    "\n",
    "Following the same procedure, the logarithm of the posterior probability is:\n",
    "\n",
    "$$L=\\log_e[prob(\\mu|\\{x_k\\},\\{\\sigma_k\\},I)] = constant -\n",
    "\\sum_{k=1}^{N}\\frac{(x_k-\\mu)^2}{2 \\sigma_k^2}.$$\n",
    "\n",
    "The same procedure is followed to find\n",
    "\n",
    "$$\\mu_0 = \\sum_{k=1}^N w_k x_k / \\sum_{k=1}^N w_k, \\mbox{where}\\, w_k =\n",
    "\\frac{1}{\\sigma_k^2},$$\n",
    "\n",
    "i.e., now the best estimate of the mean is given by a weighted average. Similarly, the second derivative yields the error bar, and now the best estimate and error for $\\mu$ is\n",
    "\n",
    "$$\\mu = \\mu_0 \\pm \\left(\\sum_{k=1}^{N} w_k \\right)^{-1/2}.$$\n",
    "\n"
   ]
  },
  {
   "cell_type": "markdown",
   "metadata": {},
   "source": [
    "Comments: A key conclusion is that the posterior PDF for $\\mu$ is Gaussian in cases when $\\sigma_k$ are known, regardless of the data set size $N$.\n",
    "\n",
    "Why is $N$ important in the statement above? It is because of the central limit theorem, discussed, for example, in Section 3.4 in the Ivezic book. Quoting from there: \"Given an arbitrary distribution $h(x)$, characterized by its mean $\\mu$ and standard deviation $\\sigma$, the central limit theorem states that the mean of $N$ values $x_i$ drawn from that distribution will approximately follow a Gaussian distribution $N(\\mu,\\sigma/\\sqrt{N}$, with the approximation accuracy improving with $N$.\" We have already experienced this result with the coin-toss experiment from Sivia Fig. 2.1. See the Ivezic section for some discussion and examples.  A proof of the central limit theorem can be found here, and here is a little video that explains the central limit theorem and its importance, and gives an example."
   ]
  },
  {
   "cell_type": "markdown",
   "metadata": {
    "collapsed": true
   },
   "source": [
    "## Example: $\\sigma$ is unknown\n",
    "\n",
    "In the next example we have a set of $N$ values drawn from a Gaussian distribution $N(\\mu,\\sigma)$, but now both the mean and the $\\sigma$ are to be determined from the data distribution.  This a physical analog to this problem would be measuring the position and width of a spectral line (ignoring the normalization, for the momement).  \n",
    "\n",
    "We don't have, in this case, any errors on the data (those will be added in the next example). So now, the posterior PDF that we seek is a function of two variables: $prob(\\mu,\\sigma | \\{x_k\\},I)$. Generally, we would be inclined to do the following:\n",
    "\n",
    "$$\\bar{x}=\\frac{1}{N} \\sum_{i=1}^N x_i$$\n",
    "and\n",
    "\n",
    "$$\\sigma = \\sqrt{\\frac{1}{1-N} \\sum_{i=1}^{N} (x_i-\\bar{x})^2}$$\n",
    "\n",
    "but now we want to consider the example where $N$ is not so large that these will apply. Apparently, when $N$ is not large, the posterior PDF for $\\mu$ follows the Student's t distribution (defined and discussed in Ivezic 3.3.8).\n"
   ]
  },
  {
   "cell_type": "markdown",
   "metadata": {},
   "source": [
    "Since each measurement is assumed to follow a Gaussian distribution, we can write the probability of the set of observations as:\n",
    "\n",
    "$$p(\\{x_i\\}| \\mu, \\sigma, I)=\\prod_{i=1}^N \\frac{1}{\\sqrt{2 \\pi } \\sigma} \\exp \\left(\\frac{-(x_i-\\mu)^2}{2 \\sigma^2}\\right). $$\n",
    "\n",
    "Again, we will be estimating both $\\mu$ and $\\sigma$, so the posterior probability distribution will be a function of two parameters."
   ]
  },
  {
   "cell_type": "markdown",
   "metadata": {},
   "source": [
    "A uniform prior distribution is chosen for $\\mu$, and a uniform prior distribution $\\log_e \\sigma$. We will assume this logarithmic dependence for now, and justify it later (and we will have a lot more to say about priors below). At any rate, it is stated that the exact value of the prior isn't going to matter, as long as it doesn't truncate the distribution severely. So:\n",
    "\n",
    "$$p(\\mu,\\sigma|I) \\propto \\frac{1}{\\sigma}$$\n",
    "\n",
    "for $\\mu_{min}\\leq \\mu \\leq \\mu_{max}$ and $\\sigma_{min} \\leq \\sigma \\leq \\sigma_{max}.$"
   ]
  },
  {
   "cell_type": "markdown",
   "metadata": {},
   "source": [
    "While in many cases, we can ignore the normalization, and normalize later, here the PDF is normalized explicitly:\n",
    "\n",
    "$$p(\\{x_i\\} | \\mu,\\sigma,I) = C \\frac{1}{\\sigma^{(N+1)}} \\prod_{i=1}^N \\exp (\\frac{-(x_i-\\mu)^2}{2 \\sigma^2}), $$\n",
    "\n",
    "where\n",
    "$$C=(2\\pi)^{-N/2} (\\mu_{max}-\\mu_{min})^{-1} [\\log_e (\\frac{\\sigma_{max}}{\\sigma_{min}})]^{-1}.$$\n",
    "\n"
   ]
  },
  {
   "cell_type": "markdown",
   "metadata": {},
   "source": [
    "The product of these two yields, by Bayes' rule, what we want, which is $p(\\mu,\\sigma | \\{x_i\\},I)$, i.e., we want the probability of both $\\mu$ and $\\sigma$. And so, as usual, we take the logarithm to get the likelihood:\n",
    "\n",
    "$$L=\\log_e[p(\\mu,\\sigma | \\{x_i\\},I)]$$\n",
    "$$ = constant-(N+1)\\log_e \\sigma -\\sum_{i=1}^N \\frac{(x_i-\\mu)^2}{2 \\sigma^2}.$$\n",
    "\n",
    "Now, noting that $\\bar{x}=\\sum x_i/N$, the following equality is used:\n",
    "\n",
    "$$\\sum_{i=1}^N (x_i - \\mu)^2 = N(\\bar{x}-\\mu)^2 + \\sum_{i=1}^N (x_i-\\bar{x})^2. $$"
   ]
  },
  {
   "cell_type": "markdown",
   "metadata": {},
   "source": [
    "Let $V=N^{-1}\\sum_{i=1}^N (x_i-\\bar{x})^2$. Substitute this into the equation for the likelihood:\n",
    "\n",
    "$$L_p = constant - (N+1)\\log_e \\sigma - \\frac{N}{2\\sigma^2} ((\\bar{x}-\\mu)^2 + V).$$\n",
    "\n",
    "Now we have cast the likelihood in terms of factors that we can evaluate, namely, $N$, $\\bar{x}$ (the simple average of $\\{x_i\\}$, and $V$, which is a function of $\\bar{x}$, $N$, and $\\{x_i\\}$.\n",
    "\n"
   ]
  },
  {
   "cell_type": "markdown",
   "metadata": {},
   "source": [
    "A plot of this likelihood is generated below, using the code from the astroml webpage, for $N=10$, $\\bar{x}=1$, and $V=4$.  \n",
    "\n",
    "Note to execute this cell, you'll have to have the astroml package installed. \n",
    "\n",
    "In addition,  it is noted that some users have trouble with \"usetex\", so if the plot doesn't work, try changing  `usetex=True` to `usetex=False`.  \n",
    "\n",
    "Try changing the values of $(N,\\overline{x},V)$. \n",
    "\n"
   ]
  },
  {
   "cell_type": "code",
   "execution_count": 5,
   "metadata": {},
   "outputs": [
    {
     "data": {
      "image/png": "[encoded data removed]",
      "text/plain": [
       "<matplotlib.figure.Figure at 0x7f0a29b4d978>"
      ]
     },
     "metadata": {},
     "output_type": "display_data"
    }
   ],
   "source": [
    "# %load code/fig_likelihood_gaussian.py\n",
    "\"\"\"\n",
    "Log-likelihood for Gaussian Distribution\n",
    "----------------------------------------\n",
    "Figure5.4\n",
    "An illustration of the logarithm of the posterior probability density\n",
    "function for :math:`\\mu` and :math:`\\sigma`, :math:`L_p(\\mu,\\sigma)`\n",
    "(see eq. 5.58) for data drawn from a Gaussian distribution and N = 10, x = 1,\n",
    "and V = 4. The maximum of :math:`L_p` is renormalized to 0, and color coded as\n",
    "shown in the legend. The maximum value of :math:`L_p` is at :math:`\\mu_0 = 1.0`\n",
    "and :math:`\\sigma_0 = 1.8`. The contours enclose the regions that contain\n",
    "0.683, 0.955, and 0.997 of the cumulative (integrated) posterior probability.\n",
    "\"\"\"\n",
    "# Author: Jake VanderPlas\n",
    "# License: BSD\n",
    "#   The figure produced by this code is published in the textbook\n",
    "#   \"Statistics, Data Mining, and Machine Learning in Astronomy\" (2013)\n",
    "#   For more information, see http://astroML.github.com\n",
    "#   To report a bug or issue, use the following forum:\n",
    "#    https://groups.google.com/forum/#!forum/astroml-general\n",
    "import scipy.stats\n",
    "from astroML.plotting.mcmc import convert_to_stdev\n",
    "\n",
    "#----------------------------------------------------------------------\n",
    "# This function adjusts matplotlib settings for a uniform feel in the textbook.\n",
    "# Note that with usetex=True, fonts are rendered with LaTeX.  This may\n",
    "# result in an error if LaTeX is not installed on your system.  In that case,\n",
    "# you can set usetex to False.\n",
    "from astroML.plotting import setup_text_plots\n",
    "setup_text_plots(fontsize=8, usetex=False)\n",
    "\n",
    "\n",
    "def gauss_logL(xbar, V, n, sigma, mu):\n",
    "    \"\"\"Equation 5.57: gaussian likelihood\"\"\"\n",
    "    return (-(n + 1) * np.log(sigma)\n",
    "            - 0.5 * n * ((xbar - mu) ** 2 + V) / sigma ** 2)\n",
    "\n",
    "#------------------------------------------------------------\n",
    "# Define the grid and compute logL\n",
    "sigma = np.linspace(1, 5, 70)\n",
    "mu = np.linspace(-3, 5, 70)\n",
    "xbar = 1\n",
    "V = 4\n",
    "n = 10\n",
    "\n",
    "logL = gauss_logL(xbar, V, n, sigma[:, np.newaxis], mu)\n",
    "logL -= logL.max()\n",
    "\n",
    "#------------------------------------------------------------\n",
    "# Plot the results\n",
    "fig = plt.figure(figsize=(10, 7.5))\n",
    "plt.imshow(logL, origin='lower',\n",
    "           extent=(mu[0], mu[-1], sigma[0], sigma[-1]),\n",
    "           cmap=plt.cm.binary,\n",
    "           aspect='auto')\n",
    "plt.colorbar().set_label(r'$\\ln(L)$')\n",
    "plt.clim(-5, 0)\n",
    "\n",
    "plt.contour(mu, sigma, convert_to_stdev(logL),\n",
    "            levels=(0.683, 0.955, 0.997),\n",
    "            colors='k')\n",
    "\n",
    "plt.text(0.5, 0.93, r'$L(\\mu,\\sigma)\\ \\mathrm{for}\\ \\bar{x}=1,\\ V=4,\\ n=10$',\n",
    "         bbox=dict(ec='k', fc='w', alpha=0.9),\n",
    "         ha='center', va='center', transform=plt.gca().transAxes)\n",
    "\n",
    "plt.xlabel(r'$\\mu$')\n",
    "plt.ylabel(r'$\\sigma$')\n",
    "plt.show()"
   ]
  },
  {
   "cell_type": "code",
   "execution_count": 6,
   "metadata": {
    "collapsed": true
   },
   "outputs": [],
   "source": [
    "plt.show()\n"
   ]
  },
  {
   "cell_type": "markdown",
   "metadata": {},
   "source": [
    "This plot is symmetric around $\\mu=1$, so the maximum value of $L$ is found along $\\mu=\\mu_0=\\bar{x}$. This is the same result obtained from Maximum Likelihood Estimation (MLE) described in Ivezic 4.2.\n",
    "\n",
    "But more formally, what we want to do is to \"marginalize\" (more on this concept later) by integrating over all possible values of $\\sigma$ at each value of $\\mu$, i.e.,\n",
    "\n",
    "$$p(\\mu | \\{x_i\\}, I) = \\int_{0}^{\\infty} p(\\mu,\\sigma |\\{x_i\\}, I),\n",
    "d\\sigma,$$\n",
    "\n",
    "which yields\n",
    "\n",
    "$$p(\\mu \\vert x_i,I) \\propto \\left[ 1+\\frac{(\\bar{x}-\\mu)^2}{V}\\right]^{-N/2}.$$"
   ]
  },
  {
   "cell_type": "markdown",
   "metadata": {},
   "source": [
    "The posterior marginal PDF for $N=10$, $\\bar{x}=1$, and $V=4$ is shown below.\n",
    "\n",
    "The top panels of the figure below (textbook figure 5.5, for the code see astroML website) show marginal distributions p(μ) and p(σ). The solid line is analytic Bayesian result with uninformative prior and the dotted line is the result for a uniform prior (note that there is not that much difference). The dashed line is the MLE result, which is quite different. The bottom panels show the cumulative distributions.\n",
    "\n",
    "![Ivezic, Figure 5.5](http://www.astroml.org/_images/fig_posterior_gaussian_1.png)\n"
   ]
  },
  {
   "cell_type": "markdown",
   "metadata": {},
   "source": [
    "Similarly, we can get the pdf for $\\sigma$ by integrating over $\\mu$:\n",
    "\n",
    "$$P(\\sigma|\\{x_i\\},I) = \\int_{0}^{\\infty} p(\\mu,\\sigma | \\{x_i\\}, I)\n",
    "d\\mu,$$\n",
    "\n",
    "yielding\n",
    "\n",
    "$$p(\\sigma |\\{x_i\\},I) \\propto \\frac{1}{\\sigma^N}\n",
    "\\exp \\left(\\frac{-NV}{2\\sigma^2}\\right).$$\n",
    "\n",
    "This probability distribution function is shown in the figure above. Unlike the Gaussian approximation, it is highly skewed.\n",
    "\n",
    "**Comment:** As pointed out in the Ivezic book, the skewness of the estimate for $\\sigma$ can have large consequences on the interpretation of data. They use the example of a subsample of 10 stars from the Milky Way halow that have a measured velocity dispersion of $50\\, \\rm  km s^{-1}$. Using the Gaussian hypothesis, we would reject the hypothesis that these stars were typical Milky Way halo stars (which have a velocity dispersion of $85\\,  \\rm km\\, s^{-1}$ at a highly significant level, and therefore might be a stellar stream from perhaps a tidally disrupted dwarf or whatever. But our analysis here shows that for $N=10$, the estimate of $\\sigma$ is so skew that a value of $85\\,  \\rm km\\, s^{-1}$ cannot be rejected even at a 2$\\sigma$ confidence level. In addition, embarassingly, the classical approach would allow for negative $\\sigma$.\n"
   ]
  },
  {
   "cell_type": "markdown",
   "metadata": {},
   "source": [
    "### Gaussian distribution with Gaussian errors\n",
    "\n",
    "Now we will assume that $\\sigma$ is unknown, as above, but there are also errors on the data. Please work through this example yourself; it is found on pages 202-206 of the Ivezic book."
   ]
  },
  {
   "cell_type": "markdown",
   "metadata": {},
   "source": [
    "## Marginalization\n",
    "\n",
    "In the previous examples, we have only looked at the case where we were interested in the values of all the parameters (one or two) that were estimated. In order to motivate marginalization, we will use the example of estimating the amplitude of a signal in the presence of a background. We are interested in the value of the signal, but not interested in the background - it is a nuisance parameter. The discussion follows Sivia chapter 3."
   ]
  },
  {
   "cell_type": "markdown",
   "metadata": {},
   "source": [
    "Examples of situations in which there are signals and background abound. For example, in X-ray diffraction from a sample, the data willl contain the Bragg peaks of interest, as well as a background of diffuse scattered light. Astronomical photometry or image analysis involves rejection of a background (really, a foreground).\n",
    "\n",
    "Consider Sivia Fig. 3.1, reproduced below, where the X-axis is the measurement variable (e.g., wavelength) and the y-axis is amplitude. The background is assumed to be flat, and of unknown magnitude B, and the signal has a known shape (Gaussian with known width) and position ($x=x_0$) and unknown amplitude A. Given the spectrum, i.e., the set of counts $\\{N_k\\}$ measured at experimental settings $\\{x_k\\}$, the question is, what is the best estimate of the signal peak and the background?"
   ]
  },
  {
   "cell_type": "code",
   "execution_count": 7,
   "metadata": {},
   "outputs": [
    {
     "data": {
      "image/png": "[encoded data removed]",
      "text/plain": [
       "<matplotlib.figure.Figure at 0x7f0a22cfb780>"
      ]
     },
     "metadata": {},
     "output_type": "display_data"
    }
   ],
   "source": [
    "def peak_and_bg(x):\n",
    "    return 2 + gaussian(x, 0, 5)\n",
    "\n",
    "x = np.linspace(-20, 20, 100)\n",
    "plt.plot(x, peak_and_bg(x))\n",
    "plt.axis([-20, 20, 1.9, 2.1])\n",
    "plt.show()"
   ]
  },
  {
   "cell_type": "markdown",
   "metadata": {},
   "source": [
    "Given what we know, it is reasonable to assume that the datum $D_k$ can be described by:\n",
    "\n",
    "$$ D_k=n_0 \\left[A \\exp \\left[-\\frac{(x_k-x_0)^2}{2w^2}\\right] + B \\right],$$\n",
    "\n",
    "where $n_0$ is a normalization constant related to the integration time (for example).\n",
    "\n",
    "In this case, we are talking about photon counting, so we will use the Poisson distribution:\n",
    "\n",
    "$$prob(N|D) = \\frac{D^N e^{-D}}{N!},$$\n",
    "\n",
    "where the expected number of counts is $D$ ($\\mu$ in the figure below), and the number observed is $N$."
   ]
  },
  {
   "cell_type": "markdown",
   "metadata": {},
   "source": [
    "Note that the expectation value for the Poission distribution is:\n",
    "\n",
    "$$\\langle N\\rangle = \\sum_{N=0}^{\\infty} N prob (N|D) = D.$$\n",
    "\n",
    "So, we set up our probability of observing an individual data point $N_k$, given the model specified by $A$ and $B$, and the prior $I$ (which contains information such as the known shape of the signal, the width of the signal $w$, and the exposure parameter $n_0$ is\n",
    "\n",
    "$$prob(N_k | A,B,I) = \\frac{D_k^{N_k} e^{-D_k}}{N_k!},$$\n",
    "\n",
    "If the data are independent, we can write the probability of observing the set of data (i.e., the whole spectrum $\\{N_k\\}$ as:\n",
    "\n",
    "$$prob(\\{N_k\\}|A,B,I) = \\prod_{k=1}^{M} prob (N_k|A,B,I),$$\n",
    "\n",
    "where there are $M$ points in the spectrum."
   ]
  },
  {
   "cell_type": "markdown",
   "metadata": {},
   "source": [
    "What we want is the posterior PDF $prob(A,B|\\{N_k\\},I)$, and so Bayes theorem gives us\n",
    "\n",
    "$$prob(A,B|\\{N_k\\},I) \\propto prob(\\{N_k\\} | A,B,I) \\times\n",
    "prob(A,B|I).$$\n",
    "\n",
    "For the prior, let us assume constant values, greater than or equal to zero:\n",
    "\n",
    "$$prob(A,B | I) = \\begin{cases} \\mbox{constant} & \\mbox{for } A\\ge 0\n",
    "\\mbox{ and } B \\ge 0, \\\\ 0 & \\mbox{otherwise}. \\end{cases} $$\n",
    "\n",
    "Implicit here are upper bounds on $A$ and $B$; we won't specify them explicitly, but will assume that they don't cut off the PDF.\n",
    "\n",
    "Multiplying the PDFs for the set of $\\{N_k\\}$ and for the prior, and taking the log of the result yields:\n",
    "\n",
    "$$L=\\log_e[prob(A,B|\\{N_k\\},I)]$$\n",
    "$$=constant + \\sum_{k=1}^{M}[N_k \\log_e(D_k)-D_k].$$\n",
    "\n",
    "The results are shown below."
   ]
  },
  {
   "cell_type": "code",
   "execution_count": null,
   "metadata": {
    "collapsed": true
   },
   "outputs": [],
   "source": []
  },
  {
   "cell_type": "code",
   "execution_count": 8,
   "metadata": {},
   "outputs": [
    {
     "data": {
      "image/png": "[encoded data removed]",
      "text/plain": [
       "<matplotlib.figure.Figure at 0x7f0a2c21f4e0>"
      ]
     },
     "metadata": {},
     "output_type": "display_data"
    }
   ],
   "source": [
    "%matplotlib inline\n",
    "\n",
    "def dk(xk, A, B, x0=0, w=3, n0=100):\n",
    "    return n0*(A*np.exp(-0.5*((xk-x0)/w)**2) + B)\n",
    "\n",
    "xk = np.arange(-10, 11)\n",
    "\n",
    "def generate_data():\n",
    "    \n",
    "    dks = dk(xk, 1, 2)\n",
    "    \n",
    "    nks = np.random.poisson(dks)\n",
    "    \n",
    "    plt.bar(xk, nks)\n",
    "    \n",
    "    return nks\n",
    "    \n",
    "Nk = generate_data()"
   ]
  },
  {
   "cell_type": "code",
   "execution_count": 25,
   "metadata": {},
   "outputs": [
    {
     "data": {
      "image/png": "[encoded data removed]",
      "text/plain": [
       "<matplotlib.figure.Figure at 0x7f0a22b3c048>"
      ]
     },
     "metadata": {},
     "output_type": "display_data"
    }
   ],
   "source": [
    "def log_posterior(a,b):\n",
    "    if a+b < 1e-6:\n",
    "        return -1e-6\n",
    "    Dk = dk(xk, a, b)\n",
    "    return np.sum(Nk*np.log(Dk) - Dk)\n",
    "\n",
    "n_samples = 100\n",
    "As = np.linspace(0, 3, n_samples)\n",
    "Bs = np.linspace(0, 3, n_samples)\n",
    "\n",
    "post_grid = np.zeros((n_samples, n_samples))\n",
    "\n",
    "for i, a in enumerate(As):\n",
    "    \n",
    "    for j, b in enumerate(Bs):\n",
    "        \n",
    "        post_grid[i,j] = log_posterior(a,b)\n",
    "\n",
    "# post_grid -= np.max(post_grid)\n",
    "plt.imshow(post_grid, origin='lower',\n",
    "          cmap='Greys')\n",
    "plt.show()"
   ]
  },
  {
   "cell_type": "code",
   "execution_count": 26,
   "metadata": {},
   "outputs": [
    {
     "name": "stdout",
     "output_type": "stream",
     "text": [
      "(100, 100)\n",
      "3165\n"
     ]
    }
   ],
   "source": [
    "# find maximum\n",
    "max_val = np.max(post_grid)\n",
    "max_ind = np.argmax(post_grid)\n",
    "print(post_grid.shape)\n",
    "\n",
    "print(max_ind)"
   ]
  },
  {
   "cell_type": "code",
   "execution_count": 27,
   "metadata": {
    "collapsed": true
   },
   "outputs": [],
   "source": [
    "#plot contours\n",
    "\n"
   ]
  },
  {
   "cell_type": "code",
   "execution_count": null,
   "metadata": {
    "collapsed": true
   },
   "outputs": [],
   "source": []
  },
  {
   "cell_type": "code",
   "execution_count": 28,
   "metadata": {},
   "outputs": [
    {
     "name": "stdout",
     "output_type": "stream",
     "text": [
      "(100, 100)\n",
      "(10000,)\n",
      "0.939393939394 1.9696969697\n"
     ]
    }
   ],
   "source": [
    "#finding\n",
    "\n",
    "B_2d, A_2d = np.meshgrid(As, Bs)\n",
    "\n",
    "print(A_2d.shape)\n",
    "\n",
    "A_2d = A_2d.flatten()\n",
    "B_2d = B_2d.flatten()\n",
    "\n",
    "print(A_2d.shape)\n",
    "\n",
    "A_best = A_2d[max_ind]\n",
    "B_best = B_2d[max_ind]\n",
    "\n",
    "print(A_best, B_best)"
   ]
  },
  {
   "cell_type": "markdown",
   "metadata": {},
   "source": [
    "We see that the maximum of the log posterior corresponds to the parameters used to generate the data.  This is what we hoped!\n",
    "\n",
    "Now for a recreation of the plot in Sivia Figure 3.3."
   ]
  },
  {
   "cell_type": "code",
   "execution_count": 29,
   "metadata": {},
   "outputs": [
    {
     "data": {
      "text/plain": [
       "[0, 3, 0, 3]"
      ]
     },
     "execution_count": 29,
     "metadata": {},
     "output_type": "execute_result"
    },
    {
     "data": {
      "image/png": "[encoded data removed]",
      "text/plain": [
       "<matplotlib.figure.Figure at 0x7f0a22c8ff60>"
      ]
     },
     "metadata": {},
     "output_type": "display_data"
    }
   ],
   "source": [
    "# plot contours at 90%, 70%, etc. of the maximum probability\n",
    "levels = np.log(np.array([.1, .3, .5, .7, .9]))+max_val\n",
    "\n",
    "X, Y = np.meshgrid(Bs, As)\n",
    "CS = plt.contour(Y, X, post_grid, levels, colors='k', linewidths=1)\n",
    "plt.xlabel('A')\n",
    "plt.ylabel('B')\n",
    "plt.axis([0, 3, 0, 3])"
   ]
  },
  {
   "cell_type": "markdown",
   "metadata": {},
   "source": [
    "Example results are shown in Fig 3.3 of Sivia. The simulated data were generated using a Poission random number generator, from the model given above, i.e., a Gaussian peak with known position $x_0=0$ and width $w=5$, but unknown ampitude and (constant) background\n",
    "amplitude. \n",
    "\n",
    "The left hand side shows the data, and the right side shows the posterior PDF contours which are functions of the amplitude of the signal $A$ and the amplitude of the background $B$. The contours show 10%, 30%, 50%, 70% and 90% of the maximum probability\n",
    "(note the distinction between this method and the one used on the previous example, which normalized according to the cumulative probability).\n",
    "\n"
   ]
  },
  {
   "cell_type": "code",
   "execution_count": null,
   "metadata": {
    "collapsed": true
   },
   "outputs": [],
   "source": []
  },
  {
   "cell_type": "markdown",
   "metadata": {},
   "source": [
    "Now that we have set up the problem, we discuss marginalization. The fact is that for our experiment, we are not interested in the actual value of the background normalization $B$; we are only interested in the value of signal normalization $A$. So what we really want is $prob(A|\\{N_k\\},I)$. This is simply obtained by integrating the joint probability distribution with respect to $B$:"
   ]
  },
  {
   "cell_type": "markdown",
   "metadata": {},
   "source": [
    "$$prob(A|\\{N_k\\},I)=\\int_{0}^{\\infty} prob(A,B|{N_k},I) dB.$$\n",
    "\n",
    "Similarly, it would be possible to estimate the PDF of the background only by marginalizing over $A$.\n",
    "\n",
    "Sivia Fig. 3.4 yields the marginal distributions from Fig 3.3."
   ]
  },
  {
   "cell_type": "markdown",
   "metadata": {},
   "source": [
    "It is worth emphasizing that the probability distribution of A resulting from marginalizing over $B$, $prob(A|\\{N_k\\},I)$, is quite different from the probability distribution of $A$ conditional on $B$, $prob(A|\\{N_k\\},B,I)$. \n",
    "\n",
    "As pointed out by Sivia, these correspond to different experiments. \n",
    "- The first is the experiment where both $A$ and $B$ are unknown and are determined via the joint probability distribution $P(A,B)$. \n",
    "- The second is the case where you may have the same data, but you already have information (perhaps from a separate calibration experiment) about $B$. \n",
    "\n",
    "Figure 3.4 from Sivia shows the conditional probability distribution assuming that it is known that $B=2$. It can be seen in the figure that the probability distribution for $A$ is similar for both cases, except for the case where the bandpass is truncated so that it is difficult to distinguish the data from the background."
   ]
  },
  {
   "cell_type": "code",
   "execution_count": 30,
   "metadata": {},
   "outputs": [
    {
     "name": "stdout",
     "output_type": "stream",
     "text": [
      "[[ -1.00000000e-06   5.31226870e+03   8.60970302e+03 ...,   2.13859513e+04\n",
      "    2.13720487e+04   2.13576412e+04]\n",
      " [ -3.33898360e+03   6.79219104e+03   9.43433582e+03 ...,   2.13835218e+04\n",
      "    2.13694123e+04   2.13548021e+04]\n",
      " [ -6.90472454e-01   7.76970732e+03   1.00668478e+04 ...,   2.13809408e+04\n",
      "    2.13666275e+04   2.13518176e+04]\n",
      " ..., \n",
      " [  1.66571448e+04   1.76086063e+04   1.81309098e+04 ...,   2.06792286e+04\n",
      "    2.06532804e+04   2.06270246e+04]\n",
      " [  1.66841011e+04   1.76283441e+04   1.81476911e+04 ...,   2.06685729e+04\n",
      "    2.06425484e+04   2.06162173e+04]\n",
      " [  1.67105524e+04   1.76476892e+04   1.81641181e+04 ...,   2.06578696e+04\n",
      "    2.06317693e+04   2.06053634e+04]]\n"
     ]
    }
   ],
   "source": [
    "print(post_grid)"
   ]
  },
  {
   "cell_type": "code",
   "execution_count": 47,
   "metadata": {},
   "outputs": [
    {
     "name": "stdout",
     "output_type": "stream",
     "text": [
      "24927.3989868\n",
      "3165\n",
      "[[-21585.41538987 -16273.1466862  -12975.7123713  ...,   -199.46406053\n",
      "    -213.36665485   -227.77416926]\n",
      " [-24924.39898677 -14793.22434388 -12151.07957258 ...,   -201.89363142\n",
      "    -216.00308934   -230.61330356]\n",
      " [-21586.10586132 -13815.70806666 -11518.56758207 ...,   -204.47459419\n",
      "    -218.78786732   -233.59782415]\n",
      " ..., \n",
      " [ -4928.27054881  -3976.80911717  -3454.50562437 ...,   -906.18681502\n",
      "    -932.13497731   -958.39081042]\n",
      " [ -4901.31433259  -3957.07124511  -3437.72429123 ...,   -916.84246599\n",
      "    -942.86696243   -969.19813548]\n",
      " [ -4874.86303645  -3937.72616999  -3421.29727551 ...,   -927.54579207\n",
      "    -953.64606482   -980.05202993]]\n"
     ]
    }
   ],
   "source": [
    "# we need to make the log posterior values numerically sound...\n",
    "# this is a hackey way to do it, but we'll subtract a fixed value\n",
    "# from every term to make them of order unity.  Then turn the infinity value\n",
    "# into a really negative finite value\n",
    "\n",
    "new_grid = post_grid - np.max(post_grid) + 3\n",
    "\n",
    "print(np.max(post_grid))\n",
    "print(np.argmax(post_grid))\n",
    "\n",
    "print(new_grid)"
   ]
  },
  {
   "cell_type": "code",
   "execution_count": 64,
   "metadata": {
    "collapsed": true
   },
   "outputs": [],
   "source": [
    "# looking for amplitudes by marginalizing data\n",
    "\n",
    "#post grid is our data array\n",
    "\n",
    "samples=100\n",
    "\n",
    "As = np.linspace(0, 3., samples)\n",
    "Bs = np.linspace(0, 3, samples)\n",
    "da = As[1] - As[0]\n",
    "\n",
    "\n",
    "\n",
    "def p_A():\n",
    "    \n",
    "    #for every value of A, sum the corresponding column of B's\n",
    "    p = np.zeros(len(As))\n",
    "    \n",
    "    for index in range(len(As)):\n",
    "        \n",
    "        p_AB = np.exp(new_grid[index, :])\n",
    "        p[index] = np.sum(p_AB)\n",
    "        \n",
    "    return p/np.sum(p)/da\n",
    "\n",
    "def p_B():\n",
    "\n",
    "    p = np.zeros(len(Bs))\n",
    "    \n",
    "    for index in range(len(Bs)):\n",
    "        \n",
    "        p_AB = np.exp(new_grid[:, index])\n",
    "        p[index] = np.sum(p_AB)\n",
    "        \n",
    "    return p/np.sum(p)/da\n",
    "\n",
    "def find_a1():\n",
    "    \n",
    "    exp_a1 = 0\n",
    "    for a1 in a1s:\n",
    "        exp_a1 += a1*p_a1(a1, x)\n",
    "        \n",
    "    return exp_a1"
   ]
  },
  {
   "cell_type": "markdown",
   "metadata": {},
   "source": [
    "Get the marginalized probabilities and calculate expectation values."
   ]
  },
  {
   "cell_type": "code",
   "execution_count": 71,
   "metadata": {},
   "outputs": [
    {
     "data": {
      "image/png": "[encoded data removed]",
      "text/plain": [
       "<matplotlib.figure.Figure at 0x7f0a217e6cf8>"
      ]
     },
     "metadata": {},
     "output_type": "display_data"
    },
    {
     "data": {
      "image/png": "[encoded data removed]",
      "text/plain": [
       "<matplotlib.figure.Figure at 0x7f0a21802668>"
      ]
     },
     "metadata": {},
     "output_type": "display_data"
    },
    {
     "name": "stdout",
     "output_type": "stream",
     "text": [
      "0.946917260986 1.97106708566\n"
     ]
    }
   ],
   "source": [
    "plt.bar(As, p_A())\n",
    "plt.show()\n",
    "\n",
    "\n",
    "plt.bar(Bs, p_B())\n",
    "plt.show()\n",
    "\n",
    "A_avg = np.sum(np.asarray(As)*p_A())*da\n",
    "B_avg = np.sum(np.asarray(Bs)*p_B())*da\n",
    "\n",
    "print(A_avg, B_avg)"
   ]
  },
  {
   "cell_type": "markdown",
   "metadata": {},
   "source": [
    "## Assignment of Probabilities and Priors\n",
    "\n",
    "We need to think about how to set probabilities, as we will need those both for the priors and for the probability of the data given the model.  To motivate this section, I briefly discuss an example given in Ivezic 5.5 where priors really matter.\n",
    "\n",
    "The situation is illustrated in the figure below. An observable quantity with true values $x_{true}$ is measured for a subsample with a true distribution $h(x_{true})$. The measurements are affected by a known error distribution $e(x_{obs}|x_{true})$, where $x_{obs}$ are the measured values. When $h(x_{true})$ is nonuniform and measurement errors are not negligible, the distribution of $x_{obs}$ can be substantially different from the distribution of $x_{true}$.\n",
    "\n",
    "![Ivezic, Figure 5.2](http://www.astroml.org/_images/fig_malmquist_bias_1.png)"
   ]
  },
  {
   "cell_type": "markdown",
   "metadata": {},
   "source": [
    "One way to understand these biases is to think about the experiment of observing a flux-limited sample. A flux-limited sample gathers all the objects down to a certain flux. An example is the ROSAT All Sky Survey.  \n",
    "\n",
    "- Generally speaking, there are more faint objects than bright objects, so the intrinsic population distribution is steep. \n",
    "- In addition, AGN are variable. \n",
    "\n",
    "So consider an AGN which has an average brightness just below the flux cutoff. \n",
    " - If it happens to be bright when observed, it will be counted. \n",
    " - Likewise, an AGN which has an average brightness just above the flux cutoff, would not be detected during the survey if it happens to have a flux lower than average at that time.  \n",
    " \n",
    "So some faint objects will be counted that should not have, and some bright objects will not be counted that should have.   But because of the steep population distribution, more faint objects will be scattered _into_ the sample than bright objects scattered out (because there are more faint objects).   Not only will the sample distribution be skewed from the population distribution, but chances are that if you observe an object near the cutoff again, it will be fainter than its discovery observation.\n",
    "\n",
    "The rest of this example can be seen in Ivezic 5.5."
   ]
  },
  {
   "cell_type": "markdown",
   "metadata": {},
   "source": [
    "### Comment:  What priors are, and what they are not, and general comments\n",
    "\n",
    "The idea of priors is to use previous knowledge to constrain your experiment. That is, you have your own new data, but you also want to take into account old results, if you have them.\n",
    "\n",
    "However, if your data is sequential, you may be tempted to use earlier data as priors to later data. That would definitely be a mistake. A prior might be thought of as an independent, different experiment, that constrains the data in a way to some degree orthogonal (one would hope) to your experiment.\n",
    "\n",
    "One would also hope that, if choice of prior makes a difference in the result of your analysis, you should endeavor to understand why. The classic way to go about this, familiar to every data analyst, is to “try it both ways”, i.e., try the experiment with a broad prior, and try it with a narrow prior.  If the results are different, you need to understand why.\n"
   ]
  },
  {
   "cell_type": "markdown",
   "metadata": {},
   "source": [
    "### Principle of Indifference (or principle of insufficent reason)\n",
    "\n",
    "The principal of indifference states that \"a set of basic, mutually exclusive possibilities need to be assigned equal probabilities\". For example, for a fair six-sided die, each of the outcomes has a prior probability of 1/6, so that\n",
    "$$prob(X_i|I)=1/6,$$\n",
    "\n",
    "where the background information would consist of just an enumeration of the possibilities.\n",
    "\n",
    "This suggests that priors can simply be defined by taking a parameter and splitting it up into evenly spaced pieces. The problem with this idea is that you need to be sure that the probability of the parameter that you are looking at is actually distributed uniformly. You may have to do a coordinate transformation first. For example, a primordial black hole passing through our galaxy hits Earth. We have no reason to believe it is more likely to come from one direction than the other. So we assume that the impact point is uniformly distributed over the surface of the earth. But note that this is not the same as assuming all latitudes are equally likely!\n",
    "\n"
   ]
  },
  {
   "cell_type": "markdown",
   "metadata": {},
   "source": [
    "### Invariance\n",
    "\n",
    "One way to think about priors is to think about what kind of invariance should there be in the problem. In the example above, the location should be invariant, and the probability should change little as the position is shifted from $X$ to $X+x_0$. That is,\n",
    "\n",
    "$$prob(X|I) dX \\approx prob(X+x_0|I) d(X+x_0),$$\n",
    "\n",
    "and so the probability should be constant in the allowed range, and zero otherwise.\n",
    "\n",
    "Another type of invariance is scale invariance, where the _fractional change is important_, rather than the absolute change, as above. Another way to put it is that the prior should have the same form no matter what the units are. Then\n",
    "\n",
    "$$prob(L|I) dL \\approx prob(\\beta L| I) d(\\beta L),$$\n",
    "\n",
    "where $\\beta$ is a positive constant. Then since\n",
    "\n",
    "$$d(\\beta L) = \\beta dL, $$\n",
    "\n",
    "we have\n",
    "\n",
    "$$prob(L|I) \\propto 1/L,$$\n",
    "\n",
    "in the allowed range, and zero outside.\n",
    "\n",
    "Properly normalized between $L_{min}$ and $L_{max}$, it looks like\n",
    "\n",
    "$$P(L|I)=\\frac{1}{L \\log_e (L_{max}/L_{min})}.$$\n",
    "\n",
    "This is called Jeffreys' prior. This prior seems a little weird, but as Sivia notes, it is equivalent to a uniform PDF for the logarithm of $L$, i.e., $prob(\\log L|I) = constant$, via a change of variables and our old friend $prob(X|I) = prob(Y|I) \\times |dX/dY|$.\n"
   ]
  },
  {
   "cell_type": "markdown",
   "metadata": {},
   "source": [
    "### The Principle of Maximum Entropy\n",
    "\n",
    "A more general way to look at the problem of assigning probabilities is though the principle of maximum entropy. I will discuss this first through an example given in Sivia Chapter 5.2.\n",
    "\n",
    "Suppose an unfair die with 6 faces were rolled a very large number of times, and it was found that the average result was 4.5. What probabilities should be assigned to the various faces? I.e., what is the probability the outcome $\\{X_i\\}$ had the face on top that had $i$ dots?\n",
    "\n",
    "The outcome of the experiment can be summarized in terms of probability as:\n",
    "\n",
    "$$\\sum_{i=1}^{6} i\\, prob(X_i | I) = 4.5.$$\n",
    "\n",
    "Note that the uniform PDF (i.e., substitute in $prob(X_i | I)=1/6$) would yield the value 3.5."
   ]
  },
  {
   "cell_type": "markdown",
   "metadata": {},
   "source": [
    "Also note that in principle, a number of PDFs could potentially be assigned that would yield the condition on the sum above, e.g., probability of 1, 2, 3, 6 equals zero, the probability of 4 or 5 is 0.5 . The question is, which should be chosen?\n",
    "\n",
    "It turns out that the best choice is the one that yields the largest \"entropy\", while satisfying all constraints. The entropy, as defined for probabilities, is:\n",
    "\n",
    "$$S = - \\sum_{i=1}^{6} p_i \\log_e(p_i),$$\n",
    "\n",
    "where $p_i = prob (X_i | I)$. Then note that $p_i$ are constrained to be normalized (their sum equals 1) and the conditional sum above holds true. Note also what the entropy is, in a sense, measuring - the expectation value of the probability, subject to the distribution of log of one over the probability (because of the negative sign so that this could be written as a function of $\\log_e(1/p_i)$), which ends up being as measure of how sharply peaked the probability distribution is. (A video I observed called $1/p_i$ the surprise, large when the probability is small.)\n",
    "\n"
   ]
  },
  {
   "cell_type": "markdown",
   "metadata": {},
   "source": [
    "$S$ is called the entropy partially bcause it is has the same form as the thermodynamic equivalent, not that it has to do anything with thermodynamics. \n",
    "\n",
    "For advanced readers, it is noted that it can be\n",
    "justified in a variety of ways, apparently, from information theory to logical consistency; see Sivia for references to further reading.  We will also likely touch on it later.\n",
    "\n"
   ]
  },
  {
   "cell_type": "markdown",
   "metadata": {},
   "source": [
    "Let us discuss Sivia's Kangaroo problem to motivate maximum entropy as the best form for the probability.\n",
    "\n",
    "- Information: A third of all kangaroos have blue eyes, and a quarter of kangaroos are left-handed.\n",
    "- Question: On the basis of this information alone, what proportion of kangaroos are both blue-eyed and left-handed.\n",
    "\n",
    "Clearly, this problem is represented by a $2\\times 2$ contingency table and has four possibilities: (1) blue-eyed and left-handed, (2) blue-eyed and right-handed, (3) not blue-eyed and left-handed, (4) not blue-eyed and not left-handed.\n",
    "\n",
    "The information can be written as the normalization constraint:\n",
    "$$p_1+p_2+p_3+p_4 = 1,$$\n",
    "and the other constraints:\n",
    "\n",
    "$$p_1+p_2=\\frac{1}{3} \\mbox{ and } p_1+p_3=\\frac{1}{4}.$$\n",
    "\n"
   ]
  },
  {
   "cell_type": "markdown",
   "metadata": {},
   "source": [
    "A little algebra shows that the possible probabilities in this case can be considered to be a continuous variable $x$ obeying (noting that if they were evenly weighted, the probability of each would be $1/4$):\n",
    "\n",
    "$$p_1: 0\\leq\\leq x \\frac{1}{4},$$\n",
    "$$p_2: \\frac{1}{3}-x,$$\n",
    "$$p_3: \\frac{1}{4}-x,$$\n",
    "$$p_4: \\frac{5}{12}+x.$$\n",
    "\n",
    "Now, Sivia claims that the obvious choice for $x$ is $1/12$. This has to be the case, because otherwise the information conditions require handedness and eye-color to be dependent. Another way to say it, $x=1/12$ is the lowest common factor of $p_1+p_2=1/3$ and $p_1+p_3=1/4$."
   ]
  },
  {
   "cell_type": "markdown",
   "metadata": {},
   "source": [
    "At the same time, he mentions that different choices from the entropy above will neither give a situation where eye-color and handedness are not correlated, and where the function that is maximized is not the largest. \n",
    "\n",
    "That is, he considers several possible functions for $S$: e.g., $-\\sum p_i^2$, $\\sum \\log_e [p_i]$, etc, but when the implied value of $x$ from $dS/dp=0$ found, the maximum value of $S$ is smaller than the one for $S=-p_i \\log_e[p_i]$, and the value of $x$ is different from $1/12$. \n",
    "\n",
    "As Sivia states, the fact that maximizing the entropy also yields the solution where the probabilities are independent is support for that form of the entropy."
   ]
  },
  {
   "cell_type": "markdown",
   "metadata": {},
   "source": [
    "As another example, consider the formal solution of the die problem described above, and solved by Ivezic.\n",
    "\n",
    "Here, we have the the two constraints, $\\sum i p_i = 4.5$, and $\\sum p_i=1$. The problem is solved using the principle of maximum entropy and the method of Lagrange multipliers (which makes sense, since wikipedia reminds me that \"the method of Lagrange multipliers is a strategy for finding the local maxima and minima of a function subject to equality constraints\". (Actually, the wikipedia page is rather illuminating.)"
   ]
  },
  {
   "cell_type": "markdown",
   "metadata": {},
   "source": [
    "They therefore maximize (for $\\mu=4.5$):\n",
    "\n",
    "$$Q=S + \\lambda_0(1-\\sum_{i=1}^{6} p_i) + \\lambda_1(\\mu -\\sum_{i=1}^{6}ip_i).$$\n",
    "\n",
    "substituting in the entropy:\n",
    "\n",
    "$$S= -\\sum_{i=1}^6 p_i \\log_e(\\frac{p_i}{m_i}),$$\n",
    "where $m_i$ is a normalization factor assigned if there are no constraints, i.e., $m_i=1/6$."
   ]
  },
  {
   "cell_type": "markdown",
   "metadata": {},
   "source": [
    "By differentiating $Q$ with respect to $p_i$, the following is obtained:\n",
    "\n",
    "$$-[\\log_e(\\frac{p_i}{m_i})+1] -\\lambda_0 -i\\lambda_1 = 0$$\n",
    "with solutions\n",
    "\n",
    "$$p_i=m_i \\exp(-1-\\lambda_0) \\exp(i\\lambda_1).$$\n",
    "\n",
    "Then, $\\lambda_0$ and $\\lambda_1$ can be determined numerically by solving these 6 equations subject to the constraints.\n",
    "\n"
   ]
  },
  {
   "cell_type": "markdown",
   "metadata": {},
   "source": [
    "There is a lot more to the question of choosing priors and assigning probabilities. This discussion shows that, if you cannot use location or scale invariant priors, and you don't have some physical constraints, maximum entropy offers a method to systematically pick distributions that is consistent with your constraints and is otherwise not biased."
   ]
  },
  {
   "cell_type": "code",
   "execution_count": null,
   "metadata": {
    "collapsed": true
   },
   "outputs": [],
   "source": []
  }
 ],
 "metadata": {
  "anaconda-cloud": {},
  "celltoolbar": "Slideshow",
  "kernelspec": {
   "display_name": "Python 3",
   "language": "python",
   "name": "python3"
  },
  "language_info": {
   "codemirror_mode": {
    "name": "ipython",
    "version": 3
   },
   "file_extension": ".py",
   "mimetype": "text/x-python",
   "name": "python",
   "nbconvert_exporter": "python",
   "pygments_lexer": "ipython3",
   "version": "3.5.2"
  }
 },
 "nbformat": 4,
 "nbformat_minor": 1
}

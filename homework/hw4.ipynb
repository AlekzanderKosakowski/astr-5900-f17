{
 "cells": [
  {
   "cell_type": "markdown",
   "metadata": {},
   "source": [
    "# Homework 4\n",
    "\n",
    "## ASTR 5900, Fall 2017, University of Oklahoma\n",
    "\n",
    "Remember to save this notebook as `hw4-<FirstnameLastname>.ipynb`"
   ]
  },
  {
   "cell_type": "markdown",
   "metadata": {},
   "source": [
    "# Problem 1\n",
    "\n",
    "The first problem of HW4 will involve fitting 2 models to some data, evaluating and comparing the $\\chi^2$, then (optionally) constructing $\\chi^2$ contour plots for certain of pairs of fit parameters."
   ]
  },
  {
   "cell_type": "markdown",
   "metadata": {},
   "source": [
    "## Part A\n",
    "\n",
    "Load the data from `emission-line.dat` from the class GitHub repository.  Use `scipy.curve_fit` to fit a single gaussian plus a constant to the data (4 parameters total).  Print the fit parameters.  Plot the resulting Gaussian plus background over the data.\n",
    "\n",
    "You better take a look at the `curve_fit` documentation: https://docs.scipy.org/doc/scipy/reference/generated/scipy.optimize.curve_fit.html\n",
    "\n",
    "Compute $\\chi^2$ for this fit.  You may assume the error for each point is $0.05$."
   ]
  },
  {
   "cell_type": "code",
   "execution_count": null,
   "metadata": {
    "collapsed": true
   },
   "outputs": [],
   "source": []
  },
  {
   "cell_type": "markdown",
   "metadata": {
    "collapsed": true
   },
   "source": [
    "## Part B\n",
    "\n",
    "Now fit *two* gaussians to the data, print all of the fit parameters, and plot the new fit over the data.\n",
    "\n",
    "Compute the new $\\chi^2$.  How does this compare to the previous?  Briefly discuss."
   ]
  },
  {
   "cell_type": "code",
   "execution_count": null,
   "metadata": {
    "collapsed": true
   },
   "outputs": [],
   "source": []
  },
  {
   "cell_type": "markdown",
   "metadata": {},
   "source": [
    "### Part C (Extra Credit)\n",
    "\n",
    "Using the covariance matrix returned by `scipy.curve_fit`, construct a $\\chi^2$ contour plot that yields 95% confidence for two parameters of interest: first for the amplitudes of the two Gaussians, then for the widths of the Gaussians."
   ]
  },
  {
   "cell_type": "markdown",
   "metadata": {},
   "source": [
    "### Amplitudes"
   ]
  },
  {
   "cell_type": "code",
   "execution_count": null,
   "metadata": {
    "collapsed": true
   },
   "outputs": [],
   "source": []
  },
  {
   "cell_type": "markdown",
   "metadata": {},
   "source": [
    "### Widths"
   ]
  },
  {
   "cell_type": "code",
   "execution_count": null,
   "metadata": {
    "collapsed": true
   },
   "outputs": [],
   "source": []
  },
  {
   "cell_type": "markdown",
   "metadata": {},
   "source": [
    "# Problem 2\n",
    "\n",
    "You are to perform bootstrap analysis on photon arrival time data from an unknown source in the sky, very loosely based on this paper: http://adsabs.harvard.edu/abs/1984MNRAS.210P..19B"
   ]
  },
  {
   "cell_type": "markdown",
   "metadata": {},
   "source": [
    "### Part A\n",
    "\n",
    "Load the arrival time data in `arrival-times.dat` from the class GitHub repository.  Write a function that takes an array-like structure of arrival times as an argument and returns the binned number of arrival time pairs for a given time difference (in other words, return bin values with their respective bin positions).  This function $N(t)$ will be our effective correlation function.\n",
    "\n",
    "We want to fit a power-law to this correlation function.  Find the slope of best-fit if the the correlation function was on a log-log plot.  Construct the corresponding log-log plot with the line fit.\n"
   ]
  },
  {
   "cell_type": "code",
   "execution_count": null,
   "metadata": {
    "collapsed": true
   },
   "outputs": [],
   "source": []
  },
  {
   "cell_type": "markdown",
   "metadata": {},
   "source": [
    "### Part B - Bootstrap\n",
    "\n",
    "We want to find the dispersion of this power law.\n",
    "\n",
    "Generate $200$ bootstrap samples of the arrival times you loaded at the beginning of the assignment.  For each bootstrap sample, fit a line and record the slope.  Evaluate the dispersion of the slope, and plot a histogram of your bootstrapped slopes.  Is the dispersion result valid? Why or why not?  Briefly discuss.\n",
    "\n",
    "Note the bootstrap process may take several minutes."
   ]
  },
  {
   "cell_type": "code",
   "execution_count": null,
   "metadata": {
    "collapsed": true
   },
   "outputs": [],
   "source": []
  }
 ],
 "metadata": {
  "kernelspec": {
   "display_name": "Python 3",
   "language": "python",
   "name": "python3"
  },
  "language_info": {
   "codemirror_mode": {
    "name": "ipython",
    "version": 3
   },
   "file_extension": ".py",
   "mimetype": "text/x-python",
   "name": "python",
   "nbconvert_exporter": "python",
   "pygments_lexer": "ipython3",
   "version": "3.5.2"
  }
 },
 "nbformat": 4,
 "nbformat_minor": 2
}

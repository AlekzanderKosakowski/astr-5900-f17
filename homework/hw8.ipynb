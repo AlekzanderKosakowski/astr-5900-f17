{
 "cells": [
  {
   "cell_type": "markdown",
   "metadata": {},
   "source": [
    "# Homework 8\n",
    "\n",
    "## ASTR 5900, Fall 2017, University of Oklahoma\n",
    "\n",
    "### Gaussian Mixture Models"
   ]
  },
  {
   "cell_type": "markdown",
   "metadata": {},
   "source": [
    "# Problem 1\n",
    "\n",
    "### Part A\n",
    "\n",
    "Load the Old Faithful data (http://www.stat.cmu.edu/~larry/all-of-statistics/=data/faithful.dat) and standardize each dimension such that they have zero mean and standard deviation of 1.\n",
    "\n",
    "Use `sklearn.mixture.GaussianMixture` to estimate the density of the data using 2 Gaussian components. Take a look at the user guide ([link](http://scikit-learn.org/stable/modules/generated/sklearn.mixture.GaussianMixture.html#sklearn.mixture.GaussianMixture)) and the examples at the bottom of the page.\n",
    "\n",
    "Plot the Old Faithful data using `matplotlib.pyplot` and overlay the points with the estimated density.  It is recommended you use a function such as `astroML.plotting.tools.draw_ellipse` ([link](https://github.com/astroML/astroML/blob/master/astroML/plotting/tools.py#L149)) to represent a Gaussian, but feel free to use any method you prefer that exists in `matplotlib`, `astropy`, `astroML`, or any other of the canonical python libraries."
   ]
  },
  {
   "cell_type": "code",
   "execution_count": null,
   "metadata": {
    "collapsed": true
   },
   "outputs": [],
   "source": []
  },
  {
   "cell_type": "markdown",
   "metadata": {},
   "source": [
    "### Part B\n",
    "\n",
    "Using the *expectation-maximization* (EM) algorithm, build a Gaussian mixture model with 2 components from scratch for the Old Faithful data.  You are limited to default python and `numpy`.  \n",
    "\n",
    "The EM algorithm was the subject of a 1977 paper by *Dempsey et al* (https://www.cse.iitb.ac.in/~pjyothi/cs753/EM.pdf).  Bishop describes the iterative procedure applied to GMM in Section 9.2.2.  The method is also in the lecture.  Plot each 'maximization' step in the same manner as what you did in Part A."
   ]
  },
  {
   "cell_type": "code",
   "execution_count": null,
   "metadata": {
    "collapsed": true
   },
   "outputs": [],
   "source": []
  },
  {
   "cell_type": "markdown",
   "metadata": {},
   "source": [
    "# Problem 2\n",
    "\n",
    "The data you will use for this homework problem comes from a Chandra\n",
    "X-ray observatory observation of the Bullet Cluster.  The bullet\n",
    "cluster is an important object in astronomy, as its morphology\n",
    "compared with gravitational lensing results support the existence of\n",
    "dark matter (versus, e.g., MOND).\n",
    "\n",
    "### Part A\n",
    "\n",
    "Load the data from `bullet.dat`.\n",
    "\n",
    "Scatter plot the data.\n",
    "\n",
    "Plot a 2d histogram of the data. Experiment with the binsize and plot representation until you obtain a pleasing image.  Comment on any structure you notice."
   ]
  },
  {
   "cell_type": "code",
   "execution_count": null,
   "metadata": {
    "collapsed": true
   },
   "outputs": [],
   "source": []
  },
  {
   "cell_type": "markdown",
   "metadata": {},
   "source": [
    "### Part B\n",
    "\n",
    "Use `sklearn.mixture.GaussianMixture` to build a GMM on the bullet data with a range of components from 1 to 20.  Evaluate the AIC and BIC for each model.  Plot these criteria as a function of the number of components, with proper labels.  Consider how these functions are evaluated from the lecture and look up any helpful instance methods that belong to `GaussianMixture`.\n",
    "\n",
    "Don't forget to the answer the discussion prompt below."
   ]
  },
  {
   "cell_type": "code",
   "execution_count": null,
   "metadata": {
    "collapsed": true
   },
   "outputs": [],
   "source": []
  },
  {
   "cell_type": "markdown",
   "metadata": {
    "collapsed": true
   },
   "source": [
    "## Discussion\n",
    "\n",
    "Based on your results, which model best captures the structure of the data?  Why?  Do not just look at their information criteria; consider how well each model passes the 'eye test'."
   ]
  },
  {
   "cell_type": "markdown",
   "metadata": {},
   "source": []
  },
  {
   "cell_type": "markdown",
   "metadata": {},
   "source": [
    "# Problem Z\n",
    "\n",
    "Comment on how long this assignment took to complete."
   ]
  },
  {
   "cell_type": "markdown",
   "metadata": {},
   "source": []
  }
 ],
 "metadata": {
  "kernelspec": {
   "display_name": "Python 3",
   "language": "python",
   "name": "python3"
  },
  "language_info": {
   "codemirror_mode": {
    "name": "ipython",
    "version": 3
   },
   "file_extension": ".py",
   "mimetype": "text/x-python",
   "name": "python",
   "nbconvert_exporter": "python",
   "pygments_lexer": "ipython3",
   "version": "3.5.2"
  }
 },
 "nbformat": 4,
 "nbformat_minor": 2
}

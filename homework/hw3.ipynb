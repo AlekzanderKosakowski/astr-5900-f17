{
 "cells": [
  {
   "cell_type": "markdown",
   "metadata": {},
   "source": [
    "# Homework 3\n",
    "\n",
    "## ASTR 5900, Fall 2017, University of Oklahoma\n",
    "\n",
    "### Basic Statistics II\n",
    "\n",
    "Remember to save this document as `hw-<FirstLast>.ipynb` when you commit it to your homework repository."
   ]
  },
  {
   "cell_type": "markdown",
   "metadata": {},
   "source": [
    "# Problem 1\n",
    "\n",
    "In X-ray and Gamma-ray astronomy, it often happens that the number of\n",
    "photons recorded from an object are few.  This makes sense\n",
    "energetically, as each X-ray or gamma-ray photon carries much more\n",
    "energy than an optical or infrared photon.  But in many cases, each\n",
    "photon is detected and counted separately.  \n",
    "\n",
    "The Poission distribution is a discrete probability distribution that\n",
    "expresses the probability of a given number of events (photons) in\n",
    "some bin (e.g., time, spectral, or spatial bin), and is therefore\n",
    "applicable to X-ray astronomy.  The central limit theorem indicates\n",
    "that the Poisson distribution approaches the Gaussian for a large\n",
    "number of photons in a bin, and in that case, Gaussian estimators\n",
    "(mean and standard deviation) can be used to determine the number of\n",
    "counts in the bin, and the uncertainty on the number of counts in the\n",
    "bin.  The problem arises when there are few counts in a bin, i.e.,\n",
    "when the rate is not high enough that the central limit theorem would\n",
    "apply.\n",
    "\n",
    "### Part A\n",
    "\n",
    "Sample $10^4$ points from Poission distributions with counts per bin = 1, 3, 5, 9, and 15.\n",
    "Plot a histogram of the resulting distributions.  Overlay the Gaussian distribution for the estimated mean and standard deviation.  Perform the plotting with `matplotlib`.\n",
    "\n",
    "It should go without saying you will want to write a Python function that does the plotting for a single bin count."
   ]
  },
  {
   "cell_type": "code",
   "execution_count": null,
   "metadata": {
    "collapsed": true
   },
   "outputs": [],
   "source": []
  },
  {
   "cell_type": "markdown",
   "metadata": {},
   "source": [
    "## Reflection\n",
    "\n",
    "Please comment on the reliability of the Gaussian approximation for the poission distriubtion in the markdown cell below.  Specifically, are some portions of the Gaussian approximation unphysical?"
   ]
  },
  {
   "cell_type": "markdown",
   "metadata": {},
   "source": []
  },
  {
   "cell_type": "markdown",
   "metadata": {
    "collapsed": true
   },
   "source": [
    "### Part B\n",
    "\n",
    "Based on your analysis above, what is the average rate of photons in a bin that you need to obtain in order that the Gaussian distribution be an acceptable approximation of the Poisson distribution.  Answers that include a quantitative discussion will receive more points.\n",
    "\n",
    "Hint 1: one way to compare a number histogram with the Gaussian distribution is with the RMS error, i.e., \n",
    "$$E_{RMS}=\\sqrt{E(\\mathbf{w})/N}$$\n",
    "\n",
    "where \n",
    "\n",
    "$$E(\\mathbf) = \\frac{1}{2} \\sum_{n=1}^N \\{y(x_n,\\mathbf{w})-t_n\\}^2$$\n",
    "\n",
    "where $y(x_n,\\mathbf{w})$ is the predictions (model), and $t_n$ is the data.\n",
    "\n",
    "Hint 2: Another way to compare a number histogram with a Gaussian distribution is with $\\chi^2$."
   ]
  },
  {
   "cell_type": "code",
   "execution_count": null,
   "metadata": {
    "collapsed": true
   },
   "outputs": [],
   "source": []
  },
  {
   "cell_type": "markdown",
   "metadata": {},
   "source": [
    "### Discussion"
   ]
  },
  {
   "cell_type": "markdown",
   "metadata": {},
   "source": []
  },
  {
   "cell_type": "markdown",
   "metadata": {},
   "source": [
    "# Problem 2\n",
    "\n",
    "Say you have an ensemble of similarly prepared systems composed of 2 electrons each.  The wave functions for these two particles, $\\psi_1(x)$ and $ \\psi_2(x)$, are interpreted as probability amplitudes such that \n",
    "$$ |\\psi_i(x)|^2 = \\rho_i(x)$$\n",
    "where $\\rho_i$ is the probablity density that electron $i$ is at position $x$.  These densities are Gaussian with $\\mu_1 = 3, \\sigma_1^2 = 1.5$ and $\\mu_2 = 2, \\sigma_2^2 = 2.$  Note however that the electrons *interact* so there is a non-zero covariance between the random variables: $\\text{Cov}(X_i, X_j) = \\text{Cov}(X_j,X_i) = 1$\n",
    "\n",
    "### Part A\n",
    "\n",
    "Calculate the probability that $-1 \\leq x_1 \\leq 3$ and $1 \\leq x_2 \\leq 4$ via a naive method: assume the random variables are independent and determine the joint probability by integrating the simple product of the densities (1d Gaussians).  **Hint**: Perform the integration(s) numerically by finding the fraction of sampled points that meet their respective criteria."
   ]
  },
  {
   "cell_type": "code",
   "execution_count": null,
   "metadata": {
    "collapsed": true
   },
   "outputs": [],
   "source": []
  },
  {
   "cell_type": "markdown",
   "metadata": {},
   "source": [
    "### Part B\n",
    "\n",
    "Calculate the probability that $-1 \\leq x_1 \\leq 3$ and $1 \\leq x_2 \\leq 4$ with a bivariate Gaussian distribution.  **Hint**:  Use `numpy` or `scipy` routines to sample from a bivariate normal distribution.  You will have to perform a double integral rather than 2 single integrals as before.  Again, this is to be performed numerically."
   ]
  },
  {
   "cell_type": "code",
   "execution_count": null,
   "metadata": {
    "collapsed": true
   },
   "outputs": [],
   "source": []
  },
  {
   "cell_type": "markdown",
   "metadata": {},
   "source": [
    "### Part C\n",
    "\n",
    "You should have received different results from the previous 2 parts.  However, both methods are identical if the 'coordinate system' is rotated in a certain way.\n",
    "\n",
    "Rotate your previous sampled points such that your new covariance matrix is diagonal i.e. your variables can be treated as independent.  Consider the possibility of $-2 \\leq u_1 \\leq 0$ and $-4 \\leq u_2 \\leq 4$ where $u_i$ is the position of particle $i$ in the NEW coordinates.  Calculate this probability first through the method of Part A, then through the method of Part B.  Succinctly discuss your results.  Hint: Find new coordinates by rotating around the mode of the bivariate Gaussian.|"
   ]
  },
  {
   "cell_type": "code",
   "execution_count": null,
   "metadata": {
    "collapsed": true
   },
   "outputs": [],
   "source": []
  },
  {
   "cell_type": "code",
   "execution_count": null,
   "metadata": {
    "collapsed": true
   },
   "outputs": [],
   "source": []
  },
  {
   "cell_type": "code",
   "execution_count": null,
   "metadata": {
    "collapsed": true
   },
   "outputs": [],
   "source": []
  },
  {
   "cell_type": "markdown",
   "metadata": {},
   "source": [
    "#### Method 1"
   ]
  },
  {
   "cell_type": "code",
   "execution_count": null,
   "metadata": {
    "collapsed": true
   },
   "outputs": [],
   "source": []
  },
  {
   "cell_type": "markdown",
   "metadata": {},
   "source": [
    "#### Method 2"
   ]
  },
  {
   "cell_type": "code",
   "execution_count": null,
   "metadata": {
    "collapsed": true
   },
   "outputs": [],
   "source": []
  },
  {
   "cell_type": "markdown",
   "metadata": {},
   "source": [
    "#### Discussion\n"
   ]
  },
  {
   "cell_type": "markdown",
   "metadata": {
    "collapsed": true
   },
   "source": []
  }
 ],
 "metadata": {
  "kernelspec": {
   "display_name": "Python 3",
   "language": "python",
   "name": "python3"
  },
  "language_info": {
   "codemirror_mode": {
    "name": "ipython",
    "version": 3
   },
   "file_extension": ".py",
   "mimetype": "text/x-python",
   "name": "python",
   "nbconvert_exporter": "python",
   "pygments_lexer": "ipython3",
   "version": "3.5.2"
  }
 },
 "nbformat": 4,
 "nbformat_minor": 1
}

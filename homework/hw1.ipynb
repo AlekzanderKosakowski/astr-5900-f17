{
 "cells": [
  {
   "cell_type": "markdown",
   "metadata": {},
   "source": [
    "# Homework 1\n",
    "\n",
    "## ASTR 5900, Fall 2017, University of Oklahoma"
   ]
  },
  {
   "cell_type": "markdown",
   "metadata": {},
   "source": [
    "# Problem 1\n",
    "\n",
    "Practice your Git and GitHub skills which are required to submit this homework.\n",
    "- Clone the class repository to your computer located at https://github.com/OUML/astr-5900-f17\n",
    "- If you haven't already done so, click the Github Classroom link you received via email.  This will create a private github repository through which you'll be submitting your homeworks. Clone that repository to your computer.\n",
    "- Copy this notebook from the class github repository to your private homework submission repository. IMPORTANT: rename it to `<filename>-FirstLast.ipynb` once you copy it, where `<filename>` is the existing filename and `FirstLast` are your first and last name. Example: `hw1-OscarBluth.ipynb`.\n",
    "- Commit and push your completed work to your remote repository hosted on GitHub before the due date.\n",
    "\n",
    "You will be submitting all of your electronic homeworks in this manner.  "
   ]
  },
  {
   "cell_type": "markdown",
   "metadata": {},
   "source": [
    "# Problem 2\n",
    "\n",
    "Complete each section in their following cell(s)."
   ]
  },
  {
   "cell_type": "markdown",
   "metadata": {},
   "source": [
    "### Part A\n",
    "\n",
    "Import a crucial python library titled `numpy` that is used for fast, element-wise computations.  You may also give it a short alias such as `np` because we will be calling many functions from this library.  This is not a default python package so it must be installed manually.  It should already be installed with with Anaconda package manager."
   ]
  },
  {
   "cell_type": "code",
   "execution_count": null,
   "metadata": {
    "collapsed": true
   },
   "outputs": [],
   "source": []
  },
  {
   "cell_type": "markdown",
   "metadata": {},
   "source": [
    "### Part B\n",
    "\n",
    "Complete these function definitions"
   ]
  },
  {
   "cell_type": "code",
   "execution_count": null,
   "metadata": {
    "collapsed": true
   },
   "outputs": [],
   "source": [
    "def hello\n",
    "    print('Hello World!')"
   ]
  },
  {
   "cell_type": "code",
   "execution_count": null,
   "metadata": {
    "collapsed": true
   },
   "outputs": [],
   "source": [
    "def power(a,b):\n",
    "    \"\"\"Return a^b\"\"\""
   ]
  },
  {
   "cell_type": "markdown",
   "metadata": {},
   "source": [
    "### Part C\n",
    "\n",
    "Write a function that takes a list of numbers as an argument and returns a list of numbers that are squares of the originals (with the same indexing).  Do this with default python."
   ]
  },
  {
   "cell_type": "code",
   "execution_count": null,
   "metadata": {
    "collapsed": true
   },
   "outputs": [],
   "source": []
  },
  {
   "cell_type": "markdown",
   "metadata": {},
   "source": [
    "### Part D\n",
    "Now write a function that takes an array-like argument and returns a numpy array of numbers that are squares of the originals.  This must be performed with the `numpy` package.  Note this can be done in two simple lines!\n"
   ]
  },
  {
   "cell_type": "code",
   "execution_count": null,
   "metadata": {
    "collapsed": true
   },
   "outputs": [],
   "source": []
  },
  {
   "cell_type": "markdown",
   "metadata": {},
   "source": [
    "### Part E\n",
    "\n",
    "Write a function that prints every number from 1 to 100 inclusive.  For every number that is divisible by 3 print the string 'Fizz' instead.  For every number that is divisible by 5 print 'Buzz' instead.  If the number is divisible by 3 AND 5 print 'FizzBuzz'."
   ]
  },
  {
   "cell_type": "code",
   "execution_count": null,
   "metadata": {
    "collapsed": true
   },
   "outputs": [],
   "source": []
  },
  {
   "cell_type": "markdown",
   "metadata": {},
   "source": [
    "# Problem 3\n",
    "\n",
    "Using `matplotlib.pyplot`, plot $ \\sin(x) $ versus $ x $ from $0$ to $4\\pi$."
   ]
  },
  {
   "cell_type": "code",
   "execution_count": null,
   "metadata": {
    "collapsed": true
   },
   "outputs": [],
   "source": []
  },
  {
   "cell_type": "markdown",
   "metadata": {},
   "source": [
    "# Problem 4"
   ]
  },
  {
   "cell_type": "markdown",
   "metadata": {},
   "source": [
    "### Part A\n",
    "\n",
    "Correct this class definition"
   ]
  },
  {
   "cell_type": "code",
   "execution_count": null,
   "metadata": {
    "collapsed": true
   },
   "outputs": [],
   "source": [
    "class Cat:\n",
    "    \n",
    "    def __init__(name, weight):\n",
    "        name = name\n",
    "        weight = weight"
   ]
  },
  {
   "cell_type": "markdown",
   "metadata": {},
   "source": [
    "### Part B\n",
    "\n",
    "Write a class `Car` that takes 3 arguments and assigns them as attributes: make, model, year.  Give every car a position of 0 initially.  The `Car` class must also have a `drive` method that changes the position of the car by a value given as an argument.  You can assume the car moves in only one dimension."
   ]
  },
  {
   "cell_type": "code",
   "execution_count": null,
   "metadata": {
    "collapsed": true
   },
   "outputs": [],
   "source": []
  },
  {
   "cell_type": "markdown",
   "metadata": {},
   "source": [
    "### Part C\n",
    "\n",
    "Create an instance of your `Car` class.  Move the car by 5 units by calling its drive method.  Add a `registration` method to your Car class that prints the make, model, and year of a Car instance (this can be done without redefining your Car class!).  Call the registration method of your Car instance."
   ]
  },
  {
   "cell_type": "code",
   "execution_count": null,
   "metadata": {
    "collapsed": true
   },
   "outputs": [],
   "source": []
  },
  {
   "cell_type": "markdown",
   "metadata": {},
   "source": [
    "# Problem 5\n",
    "\n",
    "Download the Old Faithful data located [here](http://www.stat.cmu.edu/~larry/all-of-statistics/=data/faithful.dat).  Use python to read in this data and plot it using `matplotlib` with appropriate labels.  You may use default python or any of the canonical 3rd party packages discussed in class (numpy, etc.)."
   ]
  },
  {
   "cell_type": "code",
   "execution_count": null,
   "metadata": {
    "collapsed": true
   },
   "outputs": [],
   "source": []
  },
  {
   "cell_type": "markdown",
   "metadata": {},
   "source": [
    "# Problem 6\n",
    "\n",
    "Create a `5`x`10` `numpy` array filled with elements that were sampled from a standard normal distribution.  With proper list slicing, print the 2nd column then the 4th row of this array."
   ]
  },
  {
   "cell_type": "code",
   "execution_count": null,
   "metadata": {
    "collapsed": true
   },
   "outputs": [],
   "source": []
  },
  {
   "cell_type": "markdown",
   "metadata": {},
   "source": [
    "# Problem 7\n",
    "\n",
    "About how long did this assignment take you?  Please be honest as we are looking for continuous feedback."
   ]
  },
  {
   "cell_type": "code",
   "execution_count": null,
   "metadata": {
    "collapsed": true
   },
   "outputs": [],
   "source": []
  }
 ],
 "metadata": {
  "kernelspec": {
   "display_name": "Python 3",
   "language": "python",
   "name": "python3"
  },
  "language_info": {
   "codemirror_mode": {
    "name": "ipython",
    "version": 3
   },
   "file_extension": ".py",
   "mimetype": "text/x-python",
   "name": "python",
   "nbconvert_exporter": "python",
   "pygments_lexer": "ipython3",
   "version": "3.5.2"
  }
 },
 "nbformat": 4,
 "nbformat_minor": 1
}
